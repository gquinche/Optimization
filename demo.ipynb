{
 "cells": [
  {
   "cell_type": "markdown",
   "id": "0e203f93",
   "metadata": {},
   "source": [
    "# Mínimos cuadrados para predicciones de precios\n",
    "Gabriel Quinche"
   ]
  },
  {
   "cell_type": "markdown",
   "id": "27c0d483",
   "metadata": {},
   "source": [
    "***Importado de librerias y de datos***"
   ]
  },
  {
   "cell_type": "code",
   "execution_count": 24,
   "id": "3d5bcc62",
   "metadata": {},
   "outputs": [
    {
     "name": "stderr",
     "output_type": "stream",
     "text": [
      "\u001b[32m\u001b[1m    Updating\u001b[22m\u001b[39m registry at `C:\\Users\\GABRI\\.julia\\registries\\General.toml`\n",
      "\u001b[32m\u001b[1m   Resolving\u001b[22m\u001b[39m package versions...\n",
      "\u001b[32m\u001b[1m  No Changes\u001b[22m\u001b[39m to `C:\\Users\\GABRI\\.julia\\environments\\v1.7\\Project.toml`\n",
      "\u001b[32m\u001b[1m  No Changes\u001b[22m\u001b[39m to `C:\\Users\\GABRI\\.julia\\environments\\v1.7\\Manifest.toml`\n",
      "\u001b[32m\u001b[1m   Resolving\u001b[22m\u001b[39m package versions...\n",
      "\u001b[32m\u001b[1m  No Changes\u001b[22m\u001b[39m to `C:\\Users\\GABRI\\.julia\\environments\\v1.7\\Project.toml`\n",
      "\u001b[32m\u001b[1m  No Changes\u001b[22m\u001b[39m to `C:\\Users\\GABRI\\.julia\\environments\\v1.7\\Manifest.toml`\n"
     ]
    }
   ],
   "source": [
    "import Pkg \n",
    "Pkg.add(\"CSV\")\n",
    "Pkg.add(\"DataFrames\")\n",
    "using CSV\n",
    "using DataFrames"
   ]
  },
  {
   "cell_type": "code",
   "execution_count": 25,
   "id": "6f0d9da2",
   "metadata": {},
   "outputs": [
    {
     "data": {
      "text/html": [
       "<div class=\"data-frame\"><p>366 rows × 7 columns</p><table class=\"data-frame\"><thead><tr><th></th><th>Date</th><th>Open</th><th>High</th><th>Low</th><th>Close</th><th>Adj Close</th><th>Volume</th></tr><tr><th></th><th title=\"Dates.Date\">Date</th><th title=\"Float64\">Float64</th><th title=\"Float64\">Float64</th><th title=\"Float64\">Float64</th><th title=\"Float64\">Float64</th><th title=\"Float64\">Float64</th><th title=\"Int64\">Int64</th></tr></thead><tbody><tr><th>1</th><td>2021-03-15</td><td>59267.4</td><td>60541.0</td><td>55393.2</td><td>55907.2</td><td>55907.2</td><td>66419369890</td></tr><tr><th>2</th><td>2021-03-16</td><td>55840.8</td><td>56833.2</td><td>53555.0</td><td>56804.9</td><td>56804.9</td><td>59749798599</td></tr><tr><th>3</th><td>2021-03-17</td><td>56825.8</td><td>58969.8</td><td>54528.6</td><td>58870.9</td><td>58870.9</td><td>60258313191</td></tr><tr><th>4</th><td>2021-03-18</td><td>58893.1</td><td>60116.2</td><td>54253.6</td><td>57858.9</td><td>57858.9</td><td>55746041000</td></tr><tr><th>5</th><td>2021-03-19</td><td>57850.4</td><td>59498.4</td><td>56643.7</td><td>58346.7</td><td>58346.7</td><td>49063873786</td></tr><tr><th>6</th><td>2021-03-20</td><td>58332.3</td><td>60031.3</td><td>58213.3</td><td>58313.6</td><td>58313.6</td><td>50361731222</td></tr><tr><th>7</th><td>2021-03-21</td><td>58309.9</td><td>58767.9</td><td>56005.6</td><td>57523.4</td><td>57523.4</td><td>51943414539</td></tr><tr><th>8</th><td>2021-03-22</td><td>57517.9</td><td>58471.5</td><td>54288.2</td><td>54529.1</td><td>54529.1</td><td>56521454974</td></tr><tr><th>9</th><td>2021-03-23</td><td>54511.7</td><td>55985.4</td><td>53470.7</td><td>54738.9</td><td>54738.9</td><td>56435023914</td></tr><tr><th>10</th><td>2021-03-24</td><td>54710.5</td><td>57262.4</td><td>52514.3</td><td>52774.3</td><td>52774.3</td><td>70567223787</td></tr><tr><th>11</th><td>2021-03-25</td><td>52726.7</td><td>53392.4</td><td>50856.6</td><td>51704.2</td><td>51704.2</td><td>67999812841</td></tr><tr><th>12</th><td>2021-03-26</td><td>51683.0</td><td>55137.3</td><td>51579.9</td><td>55137.3</td><td>55137.3</td><td>56652197978</td></tr><tr><th>13</th><td>2021-03-27</td><td>55137.6</td><td>56568.2</td><td>54242.9</td><td>55973.5</td><td>55973.5</td><td>47266542233</td></tr><tr><th>14</th><td>2021-03-28</td><td>55974.9</td><td>56610.3</td><td>55071.1</td><td>55950.7</td><td>55950.7</td><td>47686580918</td></tr><tr><th>15</th><td>2021-03-29</td><td>55947.9</td><td>58342.1</td><td>55139.3</td><td>57750.2</td><td>57750.2</td><td>57625587027</td></tr><tr><th>16</th><td>2021-03-30</td><td>57750.1</td><td>59447.2</td><td>57251.6</td><td>58917.7</td><td>58917.7</td><td>54414116432</td></tr><tr><th>17</th><td>2021-03-31</td><td>58930.3</td><td>59930.0</td><td>57726.4</td><td>58918.8</td><td>58918.8</td><td>65520826225</td></tr><tr><th>18</th><td>2021-04-01</td><td>58926.6</td><td>59586.1</td><td>58505.3</td><td>59095.8</td><td>59095.8</td><td>61669163792</td></tr><tr><th>19</th><td>2021-04-02</td><td>59098.9</td><td>60267.2</td><td>58869.3</td><td>59384.3</td><td>59384.3</td><td>58727860620</td></tr><tr><th>20</th><td>2021-04-03</td><td>59397.4</td><td>60110.3</td><td>57603.9</td><td>57603.9</td><td>57603.9</td><td>59641344484</td></tr><tr><th>21</th><td>2021-04-04</td><td>57604.8</td><td>58913.7</td><td>57168.7</td><td>58758.6</td><td>58758.6</td><td>50749662970</td></tr><tr><th>22</th><td>2021-04-05</td><td>58760.9</td><td>59891.3</td><td>57694.8</td><td>59057.9</td><td>59057.9</td><td>60706272115</td></tr><tr><th>23</th><td>2021-04-06</td><td>59171.9</td><td>59479.6</td><td>57646.8</td><td>58192.4</td><td>58192.4</td><td>66058027988</td></tr><tr><th>24</th><td>2021-04-07</td><td>58186.5</td><td>58731.1</td><td>55604.0</td><td>56048.9</td><td>56048.9</td><td>75645303584</td></tr><tr><th>25</th><td>2021-04-08</td><td>56099.9</td><td>58338.7</td><td>55879.1</td><td>58324.0</td><td>58324.0</td><td>53053855641</td></tr><tr><th>26</th><td>2021-04-09</td><td>58326.6</td><td>58937.0</td><td>57807.9</td><td>58245.0</td><td>58245.0</td><td>46655208546</td></tr><tr><th>27</th><td>2021-04-10</td><td>58253.8</td><td>61276.7</td><td>58038.7</td><td>59793.2</td><td>59793.2</td><td>58238470525</td></tr><tr><th>28</th><td>2021-04-11</td><td>59846.2</td><td>60790.6</td><td>59289.8</td><td>60205.0</td><td>60205.0</td><td>46280252580</td></tr><tr><th>29</th><td>2021-04-12</td><td>60175.9</td><td>61253.0</td><td>59589.9</td><td>59893.5</td><td>59893.5</td><td>51828688519</td></tr><tr><th>30</th><td>2021-04-13</td><td>59890.0</td><td>63742.3</td><td>59870.0</td><td>63503.5</td><td>63503.5</td><td>69983454362</td></tr><tr><th>&vellip;</th><td>&vellip;</td><td>&vellip;</td><td>&vellip;</td><td>&vellip;</td><td>&vellip;</td><td>&vellip;</td><td>&vellip;</td></tr></tbody></table></div>"
      ],
      "text/latex": [
       "\\begin{tabular}{r|ccccccc}\n",
       "\t& Date & Open & High & Low & Close & Adj Close & Volume\\\\\n",
       "\t\\hline\n",
       "\t& Date & Float64 & Float64 & Float64 & Float64 & Float64 & Int64\\\\\n",
       "\t\\hline\n",
       "\t1 & 2021-03-15 & 59267.4 & 60541.0 & 55393.2 & 55907.2 & 55907.2 & 66419369890 \\\\\n",
       "\t2 & 2021-03-16 & 55840.8 & 56833.2 & 53555.0 & 56804.9 & 56804.9 & 59749798599 \\\\\n",
       "\t3 & 2021-03-17 & 56825.8 & 58969.8 & 54528.6 & 58870.9 & 58870.9 & 60258313191 \\\\\n",
       "\t4 & 2021-03-18 & 58893.1 & 60116.2 & 54253.6 & 57858.9 & 57858.9 & 55746041000 \\\\\n",
       "\t5 & 2021-03-19 & 57850.4 & 59498.4 & 56643.7 & 58346.7 & 58346.7 & 49063873786 \\\\\n",
       "\t6 & 2021-03-20 & 58332.3 & 60031.3 & 58213.3 & 58313.6 & 58313.6 & 50361731222 \\\\\n",
       "\t7 & 2021-03-21 & 58309.9 & 58767.9 & 56005.6 & 57523.4 & 57523.4 & 51943414539 \\\\\n",
       "\t8 & 2021-03-22 & 57517.9 & 58471.5 & 54288.2 & 54529.1 & 54529.1 & 56521454974 \\\\\n",
       "\t9 & 2021-03-23 & 54511.7 & 55985.4 & 53470.7 & 54738.9 & 54738.9 & 56435023914 \\\\\n",
       "\t10 & 2021-03-24 & 54710.5 & 57262.4 & 52514.3 & 52774.3 & 52774.3 & 70567223787 \\\\\n",
       "\t11 & 2021-03-25 & 52726.7 & 53392.4 & 50856.6 & 51704.2 & 51704.2 & 67999812841 \\\\\n",
       "\t12 & 2021-03-26 & 51683.0 & 55137.3 & 51579.9 & 55137.3 & 55137.3 & 56652197978 \\\\\n",
       "\t13 & 2021-03-27 & 55137.6 & 56568.2 & 54242.9 & 55973.5 & 55973.5 & 47266542233 \\\\\n",
       "\t14 & 2021-03-28 & 55974.9 & 56610.3 & 55071.1 & 55950.7 & 55950.7 & 47686580918 \\\\\n",
       "\t15 & 2021-03-29 & 55947.9 & 58342.1 & 55139.3 & 57750.2 & 57750.2 & 57625587027 \\\\\n",
       "\t16 & 2021-03-30 & 57750.1 & 59447.2 & 57251.6 & 58917.7 & 58917.7 & 54414116432 \\\\\n",
       "\t17 & 2021-03-31 & 58930.3 & 59930.0 & 57726.4 & 58918.8 & 58918.8 & 65520826225 \\\\\n",
       "\t18 & 2021-04-01 & 58926.6 & 59586.1 & 58505.3 & 59095.8 & 59095.8 & 61669163792 \\\\\n",
       "\t19 & 2021-04-02 & 59098.9 & 60267.2 & 58869.3 & 59384.3 & 59384.3 & 58727860620 \\\\\n",
       "\t20 & 2021-04-03 & 59397.4 & 60110.3 & 57603.9 & 57603.9 & 57603.9 & 59641344484 \\\\\n",
       "\t21 & 2021-04-04 & 57604.8 & 58913.7 & 57168.7 & 58758.6 & 58758.6 & 50749662970 \\\\\n",
       "\t22 & 2021-04-05 & 58760.9 & 59891.3 & 57694.8 & 59057.9 & 59057.9 & 60706272115 \\\\\n",
       "\t23 & 2021-04-06 & 59171.9 & 59479.6 & 57646.8 & 58192.4 & 58192.4 & 66058027988 \\\\\n",
       "\t24 & 2021-04-07 & 58186.5 & 58731.1 & 55604.0 & 56048.9 & 56048.9 & 75645303584 \\\\\n",
       "\t25 & 2021-04-08 & 56099.9 & 58338.7 & 55879.1 & 58324.0 & 58324.0 & 53053855641 \\\\\n",
       "\t26 & 2021-04-09 & 58326.6 & 58937.0 & 57807.9 & 58245.0 & 58245.0 & 46655208546 \\\\\n",
       "\t27 & 2021-04-10 & 58253.8 & 61276.7 & 58038.7 & 59793.2 & 59793.2 & 58238470525 \\\\\n",
       "\t28 & 2021-04-11 & 59846.2 & 60790.6 & 59289.8 & 60205.0 & 60205.0 & 46280252580 \\\\\n",
       "\t29 & 2021-04-12 & 60175.9 & 61253.0 & 59589.9 & 59893.5 & 59893.5 & 51828688519 \\\\\n",
       "\t30 & 2021-04-13 & 59890.0 & 63742.3 & 59870.0 & 63503.5 & 63503.5 & 69983454362 \\\\\n",
       "\t$\\dots$ & $\\dots$ & $\\dots$ & $\\dots$ & $\\dots$ & $\\dots$ & $\\dots$ & $\\dots$ \\\\\n",
       "\\end{tabular}\n"
      ],
      "text/plain": [
       "\u001b[1m366×7 DataFrame\u001b[0m\n",
       "\u001b[1m Row \u001b[0m│\u001b[1m Date       \u001b[0m\u001b[1m Open    \u001b[0m\u001b[1m High    \u001b[0m\u001b[1m Low     \u001b[0m\u001b[1m Close   \u001b[0m\u001b[1m Adj Close \u001b[0m\u001b[1m Volume      \u001b[0m\n",
       "\u001b[1m     \u001b[0m│\u001b[90m Date       \u001b[0m\u001b[90m Float64 \u001b[0m\u001b[90m Float64 \u001b[0m\u001b[90m Float64 \u001b[0m\u001b[90m Float64 \u001b[0m\u001b[90m Float64   \u001b[0m\u001b[90m Int64       \u001b[0m\n",
       "─────┼────────────────────────────────────────────────────────────────────────\n",
       "   1 │ 2021-03-15  59267.4  60541.0  55393.2  55907.2    55907.2  66419369890\n",
       "   2 │ 2021-03-16  55840.8  56833.2  53555.0  56804.9    56804.9  59749798599\n",
       "   3 │ 2021-03-17  56825.8  58969.8  54528.6  58870.9    58870.9  60258313191\n",
       "   4 │ 2021-03-18  58893.1  60116.2  54253.6  57858.9    57858.9  55746041000\n",
       "   5 │ 2021-03-19  57850.4  59498.4  56643.7  58346.7    58346.7  49063873786\n",
       "   6 │ 2021-03-20  58332.3  60031.3  58213.3  58313.6    58313.6  50361731222\n",
       "   7 │ 2021-03-21  58309.9  58767.9  56005.6  57523.4    57523.4  51943414539\n",
       "   8 │ 2021-03-22  57517.9  58471.5  54288.2  54529.1    54529.1  56521454974\n",
       "   9 │ 2021-03-23  54511.7  55985.4  53470.7  54738.9    54738.9  56435023914\n",
       "  10 │ 2021-03-24  54710.5  57262.4  52514.3  52774.3    52774.3  70567223787\n",
       "  11 │ 2021-03-25  52726.7  53392.4  50856.6  51704.2    51704.2  67999812841\n",
       "  ⋮  │     ⋮          ⋮        ⋮        ⋮        ⋮         ⋮           ⋮\n",
       " 357 │ 2022-03-06  39404.2  39640.2  38211.6  38420.0    38420.0  19745229902\n",
       " 358 │ 2022-03-07  38429.3  39430.2  37260.2  38062.0    38062.0  28546143503\n",
       " 359 │ 2022-03-08  38059.9  39304.4  37957.4  38737.3    38737.3  25776583476\n",
       " 360 │ 2022-03-09  38742.8  42465.7  38706.1  41982.9    41982.9  32284121034\n",
       " 361 │ 2022-03-10  41974.1  42004.7  38832.9  39437.5    39437.5  31078064711\n",
       " 362 │ 2022-03-11  39440.0  40081.7  38347.4  38795.0    38795.0  26364890465\n",
       " 363 │ 2022-03-12  38794.5  39308.6  38772.5  38904.0    38904.0  14616450657\n",
       " 364 │ 2022-03-13  38884.7  39209.4  37728.1  37849.7    37849.7  17300745310\n",
       " 365 │ 2022-03-14  37846.3  39742.5  37680.7  39666.8    39666.8  24322159070\n",
       " 366 │ 2022-03-15  39717.0  39794.6  38310.2  39645.6    39645.6  25090312192\n",
       "\u001b[36m                                                              345 rows omitted\u001b[0m"
      ]
     },
     "execution_count": 25,
     "metadata": {},
     "output_type": "execute_result"
    }
   ],
   "source": [
    "df = CSV.read(\"BTC-USD.csv\",DataFrame)"
   ]
  },
  {
   "cell_type": "markdown",
   "id": "f5237ccc",
   "metadata": {},
   "source": [
    "Acá tenemos multitud de datos relacionados al precio del bitcoin principalmente los Open estan relacionados a los valores del bitcoin a cierta hora especifica del día, considerara la hora de apertura (donde por ejemplo es cuando otros activos tradicionales como las acciones o el oro pueden ser comprados de forma abierta en la bolsa), otros a resaltar pueden ser los valores Low y High, que serían simplemente los máximos y mínimos del día, finalmente el volumen sera en $\\$$ la cantidad de dinero que fue tranzado con la compra y venta del activo"
   ]
  },
  {
   "cell_type": "code",
   "execution_count": null,
   "id": "13940df9",
   "metadata": {},
   "outputs": [],
   "source": [
    "n = 10 #número de datos a usar"
   ]
  },
  {
   "cell_type": "markdown",
   "id": "7ff9d90a",
   "metadata": {},
   "source": [
    "Procedemos entonces a extraer los datos a usar y por predecir en el modelo, en este caso intentantomos inferir precios solo a travez del tiempo, pues para usar los mismos datos del bitcoin para predecir podriamos terminar tomandos datos demasiado correlacionados al mismo precio y que no tendria sentido en usar siendo que es la variable a predecir"
   ]
  },
  {
   "cell_type": "code",
   "execution_count": null,
   "id": "c77f279a",
   "metadata": {},
   "outputs": [],
   "source": [
    "\n",
    "\n",
    "bs = df[end-n+1:end,\"Open\"]\n",
    "# xhat = Matrix(reshape(xhat,:,1))"
   ]
  },
  {
   "cell_type": "code",
   "execution_count": 54,
   "id": "9a7b4645",
   "metadata": {},
   "outputs": [
    {
     "data": {
      "text/plain": [
       "10-element Vector{Int64}:\n",
       "  1\n",
       "  2\n",
       "  3\n",
       "  4\n",
       "  5\n",
       "  6\n",
       "  7\n",
       "  8\n",
       "  9\n",
       " 10"
      ]
     },
     "execution_count": 54,
     "metadata": {},
     "output_type": "execute_result"
    }
   ],
   "source": [
    "xs = [i for i in 1:n]"
   ]
  },
  {
   "cell_type": "code",
   "execution_count": 13,
   "id": "a321b646",
   "metadata": {},
   "outputs": [
    {
     "data": {
      "text/plain": [
       "10×2 Matrix{Float64}:\n",
       "  1.0  1.0\n",
       "  2.0  1.0\n",
       "  3.0  1.0\n",
       "  4.0  1.0\n",
       "  5.0  1.0\n",
       "  6.0  1.0\n",
       "  7.0  1.0\n",
       "  8.0  1.0\n",
       "  9.0  1.0\n",
       " 10.0  1.0"
      ]
     },
     "execution_count": 13,
     "metadata": {},
     "output_type": "execute_result"
    }
   ],
   "source": [
    "\n",
    "A = [xhat ones(10)]"
   ]
  },
  {
   "cell_type": "markdown",
   "id": "8c33bef8",
   "metadata": {},
   "source": [
    "En primera instancia usamos las ecuaciones normales de Gauss teniendo en cuenta que derivamos en clase eran el minimizador del problema $||Ax-b||^2$\n"
   ]
  },
  {
   "cell_type": "code",
   "execution_count": 56,
   "id": "0b0fe37d",
   "metadata": {},
   "outputs": [
    {
     "data": {
      "text/plain": [
       "2×1 Matrix{Float64}:\n",
       " 1.9999999999999996\n",
       " 4.440892098500626e-15"
      ]
     },
     "execution_count": 56,
     "metadata": {},
     "output_type": "execute_result"
    }
   ],
   "source": [
    "x=  transpose(A) * A \\ transpose(A) * yhat "
   ]
  },
  {
   "cell_type": "markdown",
   "id": "17fc0004",
   "metadata": {},
   "source": [
    "\n",
    "Aunque en el procedimiento de arriba Julia puede usar tecnicas inteligentes como una factorización de Cholesky, que más adelante veremos porque esta asegurada junto a la inversa de la matriz $A^tA$ siempre que tengamos al menos tanta cantidad de datos diferentes como parametros, este proceso aumenta la sensibilidad de la matriz a los errores llamada condición $K(A^tA) = K(A)^2 \\gg K(A)$ "
   ]
  },
  {
   "cell_type": "markdown",
   "id": "a8a3acc8",
   "metadata": {},
   "source": [
    "***Factorización QR***\n",
    "La factorización QR es mucho más estable númericamente que las tecnicas anteriormente discutidas, una algóritmo en cierta manera naive de obtenerla es con la ortonormalización de Grahm-Smith, en Julia es fácil de implementar"
   ]
  },
  {
   "cell_type": "code",
   "execution_count": 77,
   "id": "c527d452",
   "metadata": {},
   "outputs": [
    {
     "data": {
      "text/plain": [
       "2-element Vector{Float64}:\n",
       "     2.903503769696284\n",
       " 39113.30572946667"
      ]
     },
     "execution_count": 77,
     "metadata": {},
     "output_type": "execute_result"
    }
   ],
   "source": [
    "betterx= qr(A) \\ bs "
   ]
  },
  {
   "cell_type": "markdown",
   "id": "f5b2c320",
   "metadata": {},
   "source": [
    "Esto es equivalente a lo siguiente debido a la heuristicas para solución de sistemas de Julia "
   ]
  },
  {
   "cell_type": "code",
   "execution_count": 78,
   "id": "150c1854",
   "metadata": {},
   "outputs": [
    {
     "data": {
      "text/plain": [
       "2-element Vector{Float64}:\n",
       "     2.903503769697026\n",
       " 39113.305729466665"
      ]
     },
     "execution_count": 78,
     "metadata": {},
     "output_type": "execute_result"
    }
   ],
   "source": [
    "betterx = A \\ bs"
   ]
  },
  {
   "cell_type": "markdown",
   "id": "cd216d6d",
   "metadata": {},
   "source": [
    "Acá tendriamos el primer modelo lineal, diciendo que el valor base del bitcoin en el día cero (que en este caso sería el comienzo de nuestro muestreo) es aprox $\\$39.000$, mientras que tendriamos un aumento de aproximadamente $\\$3$ por día"
   ]
  },
  {
   "cell_type": "markdown",
   "id": "50ed830b",
   "metadata": {},
   "source": [
    "***Modelo No Lineal***"
   ]
  },
  {
   "cell_type": "markdown",
   "id": "6762ba32",
   "metadata": {},
   "source": [
    "Acá construimos un modelo algo ad hoc, en el que intentamos relacionar los ciclos naturales de los meses, días, y horas al modelo por tanto intentamos usar muchos más datos par ael modelo"
   ]
  },
  {
   "cell_type": "code",
   "execution_count": 129,
   "id": "bd743bf0",
   "metadata": {},
   "outputs": [
    {
     "name": "stdout",
     "output_type": "stream",
     "text": [
      "[150.79644737231007, 6.283185307179586, 0.8975979010256552, 0.20943951023931953, 0.01721420632103996]\n"
     ]
    },
    {
     "data": {
      "text/plain": [
       "myModel (generic function with 3 methods)"
      ]
     },
     "execution_count": 129,
     "metadata": {},
     "output_type": "execute_result"
    }
   ],
   "source": [
    "hourScale = 2 * pi * 24\n",
    "dayScale = 2 * pi \n",
    "weekScale = 2* pi / 7 \n",
    "monthScale = 2 * pi / 30\n",
    "YearScale = 2 * pi / (365)\n",
    "tempScale =  [ hourScale ; dayScale ; weekScale ; monthScale ; YearScale] \n",
    "\n",
    "n = 366 \n",
    "\n",
    "println(tempScale)\n",
    "\n",
    "\n",
    "function myModel(scales,t,params)\n",
    "    return sum((params)*(sin.(t*scales)))\n",
    "\n",
    "    end"
   ]
  },
  {
   "cell_type": "markdown",
   "id": "21de20d5",
   "metadata": {},
   "source": [
    "Ya que queremos que sea relacionado a temporalidades del año tenemos que hacer un ajuste no solo a la escala del tiempo de los senos sino a las fases luego miramos cual es el primer dato de nuestro csv"
   ]
  },
  {
   "cell_type": "code",
   "execution_count": 128,
   "id": "f189153c",
   "metadata": {},
   "outputs": [
    {
     "data": {
      "text/html": [
       "<p>DataFrameRow (7 columns)</p><div class=\"data-frame\"><table class=\"data-frame\"><thead><tr><th></th><th>Date</th><th>Open</th><th>High</th><th>Low</th><th>Close</th><th>Adj Close</th><th>Volume</th></tr><tr><th></th><th title=\"Dates.Date\">Date</th><th title=\"Float64\">Float64</th><th title=\"Float64\">Float64</th><th title=\"Float64\">Float64</th><th title=\"Float64\">Float64</th><th title=\"Float64\">Float64</th><th title=\"Int64\">Int64</th></tr></thead><tbody><tr><th>1</th><td>2021-03-15</td><td>59267.4</td><td>60541.0</td><td>55393.2</td><td>55907.2</td><td>55907.2</td><td>66419369890</td></tr></tbody></table></div>"
      ],
      "text/latex": [
       "\\begin{tabular}{r|ccccccc}\n",
       "\t& Date & Open & High & Low & Close & Adj Close & Volume\\\\\n",
       "\t\\hline\n",
       "\t& Date & Float64 & Float64 & Float64 & Float64 & Float64 & Int64\\\\\n",
       "\t\\hline\n",
       "\t1 & 2021-03-15 & 59267.4 & 60541.0 & 55393.2 & 55907.2 & 55907.2 & 66419369890 \\\\\n",
       "\\end{tabular}\n"
      ],
      "text/plain": [
       "\u001b[1mDataFrameRow\u001b[0m\n",
       "\u001b[1m Row \u001b[0m│\u001b[1m Date       \u001b[0m\u001b[1m Open    \u001b[0m\u001b[1m High    \u001b[0m\u001b[1m Low     \u001b[0m\u001b[1m Close   \u001b[0m\u001b[1m Adj Close \u001b[0m\u001b[1m Volume      \u001b[0m\n",
       "\u001b[1m     \u001b[0m│\u001b[90m Date       \u001b[0m\u001b[90m Float64 \u001b[0m\u001b[90m Float64 \u001b[0m\u001b[90m Float64 \u001b[0m\u001b[90m Float64 \u001b[0m\u001b[90m Float64   \u001b[0m\u001b[90m Int64       \u001b[0m\n",
       "─────┼────────────────────────────────────────────────────────────────────────\n",
       "   1 │ 2021-03-15  59267.4  60541.0  55393.2  55907.2    55907.2  66419369890"
      ]
     },
     "execution_count": 128,
     "metadata": {},
     "output_type": "execute_result"
    }
   ],
   "source": [
    "first(df)"
   ]
  },
  {
   "cell_type": "markdown",
   "id": "2aa9ab34",
   "metadata": {},
   "source": [
    "Como el punto cero va a corresponder a el 15 de marzo de 2021 debemos hace un ajuste de 15 días para el mes y de 75 días para el año. Por casualidad ese día corresponde a un lunes un punto cero natural como ciclo de la semana "
   ]
  },
  {
   "cell_type": "code",
   "execution_count": 131,
   "id": "3cf06027",
   "metadata": {},
   "outputs": [
    {
     "data": {
      "text/plain": [
       "5-element Vector{Int64}:\n",
       "  0\n",
       "  0\n",
       "  0\n",
       " 15\n",
       " 75"
      ]
     },
     "execution_count": 131,
     "metadata": {},
     "output_type": "execute_result"
    }
   ],
   "source": [
    "tempPhase = [ 0 ; 0 ; 0 ; 15; 75]"
   ]
  },
  {
   "cell_type": "markdown",
   "id": "de5024be",
   "metadata": {},
   "source": [
    "Para facilitar la construcción de la matriz podemos hacer un producto externo, pues queremos por ejemplo \n",
    "\n",
    "$\\sin(at) + \\sin(bt)+\\sin(ct)...$\n",
    "\n",
    "$\\sin(at_2)+\\sin(bt_2)+\\sin(ct_3)$\n",
    "\n",
    "por lo que podemos construir primero la matriz y luego aplicarle seno a la misma, podemos ver un ejemplo primero"
   ]
  },
  {
   "cell_type": "code",
   "execution_count": 138,
   "id": "5ceaab4d",
   "metadata": {},
   "outputs": [
    {
     "data": {
      "text/plain": [
       "366×366 Matrix{Float64}:\n",
       "    3.14159     3.14159     3.14159  …     3.14159     3.14159     3.14159\n",
       "    6.28319     6.28319     6.28319        6.28319     6.28319     6.28319\n",
       "    9.42478     9.42478     9.42478        9.42478     9.42478     9.42478\n",
       "   12.5664     12.5664     12.5664        12.5664     12.5664     12.5664\n",
       "   15.708      15.708      15.708         15.708      15.708      15.708\n",
       "   18.8496     18.8496     18.8496   …    18.8496     18.8496     18.8496\n",
       "   21.9911     21.9911     21.9911        21.9911     21.9911     21.9911\n",
       "   25.1327     25.1327     25.1327        25.1327     25.1327     25.1327\n",
       "   28.2743     28.2743     28.2743        28.2743     28.2743     28.2743\n",
       "   31.4159     31.4159     31.4159        31.4159     31.4159     31.4159\n",
       "   34.5575     34.5575     34.5575   …    34.5575     34.5575     34.5575\n",
       "   37.6991     37.6991     37.6991        37.6991     37.6991     37.6991\n",
       "   40.8407     40.8407     40.8407        40.8407     40.8407     40.8407\n",
       "    ⋮                                ⋱                             ⋮\n",
       " 1115.27     1115.27     1115.27        1115.27     1115.27     1115.27\n",
       " 1118.41     1118.41     1118.41     …  1118.41     1118.41     1118.41\n",
       " 1121.55     1121.55     1121.55        1121.55     1121.55     1121.55\n",
       " 1124.69     1124.69     1124.69        1124.69     1124.69     1124.69\n",
       " 1127.83     1127.83     1127.83        1127.83     1127.83     1127.83\n",
       " 1130.97     1130.97     1130.97        1130.97     1130.97     1130.97\n",
       " 1134.11     1134.11     1134.11     …  1134.11     1134.11     1134.11\n",
       " 1137.26     1137.26     1137.26        1137.26     1137.26     1137.26\n",
       " 1140.4      1140.4      1140.4         1140.4      1140.4      1140.4\n",
       " 1143.54     1143.54     1143.54        1143.54     1143.54     1143.54\n",
       " 1146.68     1146.68     1146.68        1146.68     1146.68     1146.68\n",
       " 1149.82     1149.82     1149.82     …  1149.82     1149.82     1149.82"
      ]
     },
     "execution_count": 138,
     "metadata": {},
     "output_type": "execute_result"
    }
   ],
   "source": [
    "outer = Vector{Float64}(1:n) * transpose(π* ones(n))\n"
   ]
  },
  {
   "cell_type": "code",
   "execution_count": 140,
   "id": "1c4efe91",
   "metadata": {},
   "outputs": [
    {
     "data": {
      "text/plain": [
       "366×5 Matrix{Float64}:\n",
       "   150.796     6.28319    0.897598   0.20944   0.0172142\n",
       "   301.593    12.5664     1.7952     0.418879  0.0344284\n",
       "   452.389    18.8496     2.69279    0.628319  0.0516426\n",
       "   603.186    25.1327     3.59039    0.837758  0.0688568\n",
       "   753.982    31.4159     4.48799    1.0472    0.086071\n",
       "   904.779    37.6991     5.38559    1.25664   0.103285\n",
       "  1055.58     43.9823     6.28319    1.46608   0.120499\n",
       "  1206.37     50.2655     7.18078    1.67552   0.137714\n",
       "  1357.17     56.5487     8.07838    1.88496   0.154928\n",
       "  1507.96     62.8319     8.97598    2.0944    0.172142\n",
       "  1658.76     69.115      9.87358    2.30383   0.189356\n",
       "  1809.56     75.3982    10.7712     2.51327   0.20657\n",
       "  1960.35     81.6814    11.6688     2.72271   0.223785\n",
       "     ⋮                                         \n",
       " 53532.7    2230.53     318.647     74.351     6.11104\n",
       " 53683.5    2236.81     319.545     74.5605    6.12826\n",
       " 53834.3    2243.1      320.442     74.7699    6.14547\n",
       " 53985.1    2249.38     321.34      74.9793    6.16269\n",
       " 54135.9    2255.66     322.238     75.1888    6.1799\n",
       " 54286.7    2261.95     323.135     75.3982    6.19711\n",
       " 54437.5    2268.23     324.033     75.6077    6.21433\n",
       " 54588.3    2274.51     324.93      75.8171    6.23154\n",
       " 54739.1    2280.8      325.828     76.0265    6.24876\n",
       " 54889.9    2287.08     326.726     76.236     6.26597\n",
       " 55040.7    2293.36     327.623     76.4454    6.28319\n",
       " 55191.5    2299.65     328.521     76.6549    6.3004"
      ]
     },
     "execution_count": 140,
     "metadata": {},
     "output_type": "execute_result"
    }
   ],
   "source": [
    "#real useful matriz\n",
    "outer = Vector{Float64}(1:n) * transpose(tempScale)"
   ]
  },
  {
   "cell_type": "markdown",
   "id": "5ab59cc2",
   "metadata": {},
   "source": [
    "Pongamos a prueba de inmediato hacer el desfase a la matriz para que estuviera lista para aplicar $\\sin$"
   ]
  },
  {
   "cell_type": "code",
   "execution_count": 142,
   "id": "0e913866",
   "metadata": {},
   "outputs": [
    {
     "data": {
      "text/plain": [
       "366×5 Matrix{Float64}:\n",
       "   150.796     6.28319    0.897598  15.2094  75.0172\n",
       "   301.593    12.5664     1.7952    15.4189  75.0344\n",
       "   452.389    18.8496     2.69279   15.6283  75.0516\n",
       "   603.186    25.1327     3.59039   15.8378  75.0689\n",
       "   753.982    31.4159     4.48799   16.0472  75.0861\n",
       "   904.779    37.6991     5.38559   16.2566  75.1033\n",
       "  1055.58     43.9823     6.28319   16.4661  75.1205\n",
       "  1206.37     50.2655     7.18078   16.6755  75.1377\n",
       "  1357.17     56.5487     8.07838   16.885   75.1549\n",
       "  1507.96     62.8319     8.97598   17.0944  75.1721\n",
       "  1658.76     69.115      9.87358   17.3038  75.1894\n",
       "  1809.56     75.3982    10.7712    17.5133  75.2066\n",
       "  1960.35     81.6814    11.6688    17.7227  75.2238\n",
       "     ⋮                                       \n",
       " 53532.7    2230.53     318.647     89.351   81.111\n",
       " 53683.5    2236.81     319.545     89.5605  81.1283\n",
       " 53834.3    2243.1      320.442     89.7699  81.1455\n",
       " 53985.1    2249.38     321.34      89.9793  81.1627\n",
       " 54135.9    2255.66     322.238     90.1888  81.1799\n",
       " 54286.7    2261.95     323.135     90.3982  81.1971\n",
       " 54437.5    2268.23     324.033     90.6077  81.2143\n",
       " 54588.3    2274.51     324.93      90.8171  81.2315\n",
       " 54739.1    2280.8      325.828     91.0265  81.2488\n",
       " 54889.9    2287.08     326.726     91.236   81.266\n",
       " 55040.7    2293.36     327.623     91.4454  81.2832\n",
       " 55191.5    2299.65     328.521     91.6549  81.3004"
      ]
     },
     "execution_count": 142,
     "metadata": {},
     "output_type": "execute_result"
    }
   ],
   "source": [
    "outer =outer .+ transpose(tempPhase)"
   ]
  },
  {
   "cell_type": "code",
   "execution_count": 143,
   "id": "896d71c4",
   "metadata": {},
   "outputs": [
    {
     "data": {
      "text/plain": [
       "366×7 Matrix{Float64}:\n",
       " -5.8783e-15   -2.44929e-16   0.781831      0.478129   -0.371858  1.0    1.0\n",
       " -1.17566e-14  -4.89859e-16   0.974928      0.285075   -0.355824  1.0    2.0\n",
       " -1.76349e-14  -7.34788e-16   0.433884      0.0795606  -0.339684  1.0    3.0\n",
       " -2.35132e-14  -9.79717e-16  -0.433884     -0.129431   -0.323444  1.0    4.0\n",
       " -8.62349e-14  -1.22465e-15  -0.974928     -0.332765   -0.307108  1.0    5.0\n",
       " -3.52698e-14  -1.46958e-15  -0.781831     -0.521556   -0.290681  1.0    6.0\n",
       "  1.56953e-14  -1.71451e-15  -2.44929e-16  -0.687553   -0.274168  1.0    7.0\n",
       " -4.70264e-14  -1.95943e-15   0.781831     -0.8235     -0.257573  1.0    8.0\n",
       " -1.09748e-13  -2.20436e-15   0.974928     -0.923456   -0.240903  1.0    9.0\n",
       " -1.7247e-13   -2.44929e-15   0.433884     -0.983053   -0.224161  1.0   10.0\n",
       " -7.81793e-15  -9.79965e-15  -0.433884     -0.999686   -0.207352  1.0   11.0\n",
       " -7.05397e-14  -2.93915e-15  -0.974928     -0.972627   -0.190482  1.0   12.0\n",
       " -1.33261e-13   3.92135e-15  -0.781831     -0.90306    -0.173556  1.0   13.0\n",
       "  ⋮                                                               ⋮    \n",
       " -3.62157e-12  -1.50899e-13  -0.974928      0.983053   -0.53994   1.0  355.0\n",
       " -2.32005e-12   5.49137e-14  -0.781831      0.999686   -0.525371  1.0  356.0\n",
       " -1.01853e-12  -1.94021e-13  -1.95968e-14   0.972627   -0.510647  1.0  357.0\n",
       "  2.82991e-13   1.17913e-14   0.781831      0.90306    -0.495772  1.0  358.0\n",
       " -5.69145e-12  -2.37144e-13   0.974928      0.794025   -0.480749  1.0  359.0\n",
       " -4.38993e-12  -3.13312e-14   0.433884      0.650288   -0.465584  1.0  360.0\n",
       " -3.08841e-12  -2.80266e-13  -0.433884      0.478129   -0.450281  1.0  361.0\n",
       " -1.78689e-12  -7.44536e-14  -0.974928      0.285075   -0.434845  1.0  362.0\n",
       " -4.85365e-13   1.31359e-13  -0.781831      0.0795606  -0.41928   1.0  363.0\n",
       "  8.16155e-13  -1.17576e-13   1.56854e-14  -0.129431   -0.403591  1.0  364.0\n",
       " -5.15828e-12   8.82365e-14   0.781831     -0.332765   -0.387782  1.0  365.0\n",
       " -3.85676e-12  -1.60698e-13   0.974928     -0.521556   -0.371858  1.0  366.0"
      ]
     },
     "execution_count": 143,
     "metadata": {},
     "output_type": "execute_result"
    }
   ],
   "source": [
    "#finalmente aplicamos seno y agregamos un factor lineal mx+b al modelo\n",
    "A = [sin.(outer ) ones(n) Vector{Float64}(1:n)]"
   ]
  },
  {
   "cell_type": "markdown",
   "id": "6487d130",
   "metadata": {},
   "source": [
    "Finalmente buscamos la parametrización optima del modelo"
   ]
  },
  {
   "cell_type": "code",
   "execution_count": 144,
   "id": "b69ad049",
   "metadata": {},
   "outputs": [
    {
     "data": {
      "text/plain": [
       "7-element Vector{Float64}:\n",
       "      5.611421716698393e13\n",
       "     -8.060651155119328e10\n",
       "     34.3669550072057\n",
       "   1058.0562813825484\n",
       " -12092.712425137377\n",
       "  59926.968102755476\n",
       "    -69.66858680310679"
      ]
     },
     "execution_count": 144,
     "metadata": {},
     "output_type": "execute_result"
    }
   ],
   "source": [
    "x= A \\ df[:,\"Open\"]"
   ]
  },
  {
   "cell_type": "markdown",
   "id": "1f4d9194",
   "metadata": {},
   "source": [
    "Esta solución nos implica como modelo\n",
    "\n",
    "$5.6 \\sin(x \\frac{2*24*\\pi}{1}) -8.06\\sin(x\\frac{2*\\pi}{1}) +34\\sin(x\\frac{2*\\pi}{7})+1058\\sin(x\\frac{2*\\pi}{30})+12092\\sin(x\\frac{2*\\pi}{365}) + 59926-69.6x $"
   ]
  },
  {
   "cell_type": "code",
   "execution_count": 161,
   "id": "80a37517",
   "metadata": {},
   "outputs": [
    {
     "data": {
      "text/plain": [
       "366-element Vector{Float64}:\n",
       " 64886.495574589804\n",
       " 64424.97486166964\n",
       " 63923.76647926502\n",
       " 63406.433360335686\n",
       " 62901.96514505183\n",
       " 62443.39385474767\n",
       " 62028.1318597901\n",
       " 61637.30188744917\n",
       " 61263.39630571341\n",
       " 60906.09989735253\n",
       " 60594.989699547266\n",
       " 60327.83253421295\n",
       " 60130.19934829941\n",
       "     ⋮\n",
       " 42527.36879630755\n",
       " 42378.77869352754\n",
       " 42202.3480975957\n",
       " 41979.07466498088\n",
       " 41283.78423397518\n",
       " 40933.07151699845\n",
       " 40539.42792838617\n",
       " 40133.252932278105\n",
       " 39737.567460667684\n",
       " 39356.97020602251\n",
       " 38572.5905806392\n",
       " 38190.29746496977"
      ]
     },
     "execution_count": 161,
     "metadata": {},
     "output_type": "execute_result"
    }
   ],
   "source": [
    " A * (x) #podemos ver los valores predichos"
   ]
  },
  {
   "cell_type": "code",
   "execution_count": 167,
   "id": "bd1b965d",
   "metadata": {},
   "outputs": [
    {
     "data": {
      "text/plain": [
       "10-element Vector{Float64}:\n",
       " -2798.148878595697\n",
       " -3549.7699769808823\n",
       " -3223.8818899751786\n",
       " -2190.255110998449\n",
       "  1434.6423846138277\n",
       "  -693.2841822781047\n",
       "  -943.102616667682\n",
       "  -472.2436430225134\n",
       "  -726.2741746391985\n",
       "  1526.6830040302302"
      ]
     },
     "execution_count": 167,
     "metadata": {},
     "output_type": "execute_result"
    }
   ],
   "source": [
    "last(df[:,2],10)-last(A*(x),10) # vector de errores recientes"
   ]
  },
  {
   "cell_type": "code",
   "execution_count": 177,
   "id": "a07e2ee6",
   "metadata": {},
   "outputs": [
    {
     "data": {
      "text/plain": [
       "10-element Vector{Float64}:\n",
       " -7.101143873129338\n",
       " -9.23714338784105\n",
       " -8.470546931089041\n",
       " -5.6533192838795525\n",
       "  3.417925337990148\n",
       " -1.7578213275792838\n",
       " -2.4310236536580123\n",
       " -1.2144707826539474\n",
       " -1.9190088854302818\n",
       "  3.84390501493899"
      ]
     },
     "execution_count": 177,
     "metadata": {},
     "output_type": "execute_result"
    }
   ],
   "source": [
    "(last(df[:,2],10)-last(A*(x),10)) ./ (0.01*last(df[:,2],10))"
   ]
  },
  {
   "cell_type": "markdown",
   "id": "70b21c10",
   "metadata": {},
   "source": [
    "Por lo que vemos que incluso con los valores ya dados tenemos errores dentro del $\\pm 10\\%$  esto debido a que tenemos demasiados datos para tan pocos parametros  que por ejemplo no dimos un peso especial a los valores, finalmente a parte de predecir con el modelo queremos acotar el error relativo del modelo esto lo podemos hacer obteniendo máximos y mínimos para la misma formula anterior"
   ]
  },
  {
   "cell_type": "code",
   "execution_count": 239,
   "id": "21eff94e",
   "metadata": {},
   "outputs": [
    {
     "data": {
      "text/html": [
       "<div class=\"data-frame\"><p>1 rows × 7 columns</p><table class=\"data-frame\"><thead><tr><th></th><th>variable</th><th>mean</th><th>min</th><th>median</th><th>max</th><th>nmissing</th><th>eltype</th></tr><tr><th></th><th title=\"Symbol\">Symbol</th><th title=\"Float64\">Float64</th><th title=\"Float64\">Float64</th><th title=\"Float64\">Float64</th><th title=\"Float64\">Float64</th><th title=\"Int64\">Int64</th><th title=\"DataType\">DataType</th></tr></thead><tbody><tr><th>1</th><td>x1</td><td>-2.31456</td><td>-38.4873</td><td>-2.4712</td><td>29.6565</td><td>0</td><td>Float64</td></tr></tbody></table></div>"
      ],
      "text/latex": [
       "\\begin{tabular}{r|ccccccc}\n",
       "\t& variable & mean & min & median & max & nmissing & eltype\\\\\n",
       "\t\\hline\n",
       "\t& Symbol & Float64 & Float64 & Float64 & Float64 & Int64 & DataType\\\\\n",
       "\t\\hline\n",
       "\t1 & x1 & -2.31456 & -38.4873 & -2.4712 & 29.6565 & 0 & Float64 \\\\\n",
       "\\end{tabular}\n"
      ],
      "text/plain": [
       "\u001b[1m1×7 DataFrame\u001b[0m\n",
       "\u001b[1m Row \u001b[0m│\u001b[1m variable \u001b[0m\u001b[1m mean     \u001b[0m\u001b[1m min      \u001b[0m\u001b[1m median  \u001b[0m\u001b[1m max     \u001b[0m\u001b[1m nmissing \u001b[0m\u001b[1m eltype   \u001b[0m\n",
       "\u001b[1m     \u001b[0m│\u001b[90m Symbol   \u001b[0m\u001b[90m Float64  \u001b[0m\u001b[90m Float64  \u001b[0m\u001b[90m Float64 \u001b[0m\u001b[90m Float64 \u001b[0m\u001b[90m Int64    \u001b[0m\u001b[90m DataType \u001b[0m\n",
       "─────┼────────────────────────────────────────────────────────────────────\n",
       "   1 │ x1        -2.31456  -38.4873  -2.4712  29.6565         0  Float64"
      ]
     },
     "execution_count": 239,
     "metadata": {},
     "output_type": "execute_result"
    }
   ],
   "source": [
    "describe(DataFrame([ (df[:,2]-A*(x)) ./ (0.01*df[:,2])],:auto))"
   ]
  },
  {
   "cell_type": "markdown",
   "id": "72bd4cdc",
   "metadata": {},
   "source": [
    "***Segundo punto***\n",
    "\n",
    "Vamos a usar este mismo método para rápidamente establecer una función que no solo tenga en cuenta el tiempo sino los valores del oro la plata y el petroleo\n",
    "\n",
    "Ya tenemos una matriz A que tiene en cuenta los valores del bitcoin agregaremos otros terminos lineales a nuestro modelo $gx+sy+pz$  encontraremos nuevos parametros optimos\n"
   ]
  },
  {
   "cell_type": "code",
   "execution_count": 334,
   "id": "556188a6",
   "metadata": {},
   "outputs": [
    {
     "data": {
      "text/html": [
       "<div class=\"data-frame\"><p>253 rows × 2 columns</p><table class=\"data-frame\"><thead><tr><th></th><th>Date</th><th>Open</th></tr><tr><th></th><th title=\"String15\">String15</th><th title=\"Float64\">Float64</th></tr></thead><tbody><tr><th>1</th><td>Mar 15, 2022</td><td>172.6</td></tr><tr><th>2</th><td>Mar 14, 2022</td><td>179.65</td></tr><tr><th>3</th><td>Mar 11, 2022</td><td>189.26</td></tr><tr><th>4</th><td>Mar 10, 2022</td><td>190.33</td></tr><tr><th>5</th><td>Mar 09, 2022</td><td>206.83</td></tr><tr><th>6</th><td>Mar 08, 2022</td><td>223.69</td></tr><tr><th>7</th><td>Mar 07, 2022</td><td>210.69</td></tr><tr><th>8</th><td>Mar 04, 2022</td><td>195.25</td></tr><tr><th>9</th><td>Mar 03, 2022</td><td>185.89</td></tr><tr><th>10</th><td>Mar 02, 2022</td><td>185.89</td></tr><tr><th>11</th><td>Mar 01, 2022</td><td>165.45</td></tr><tr><th>12</th><td>Feb 28, 2022</td><td>165.45</td></tr><tr><th>13</th><td>Feb 25, 2022</td><td>156.28</td></tr><tr><th>14</th><td>Feb 24, 2022</td><td>168.42</td></tr><tr><th>15</th><td>Feb 23, 2022</td><td>160.48</td></tr><tr><th>16</th><td>Feb 22, 2022</td><td>160.05</td></tr><tr><th>17</th><td>Feb 18, 2022</td><td>155.85</td></tr><tr><th>18</th><td>Feb 17, 2022</td><td>154.98</td></tr><tr><th>19</th><td>Feb 16, 2022</td><td>159.7</td></tr><tr><th>20</th><td>Feb 15, 2022</td><td>155.25</td></tr><tr><th>21</th><td>Feb 14, 2022</td><td>159.1</td></tr><tr><th>22</th><td>Feb 11, 2022</td><td>156.67</td></tr><tr><th>23</th><td>Feb 10, 2022</td><td>156.33</td></tr><tr><th>24</th><td>Feb 09, 2022</td><td>154.83</td></tr><tr><th>25</th><td>Feb 08, 2022</td><td>151.89</td></tr><tr><th>26</th><td>Feb 07, 2022</td><td>156.99</td></tr><tr><th>27</th><td>Feb 04, 2022</td><td>157.64</td></tr><tr><th>28</th><td>Feb 03, 2022</td><td>151.76</td></tr><tr><th>29</th><td>Feb 02, 2022</td><td>149.47</td></tr><tr><th>30</th><td>Feb 01, 2022</td><td>150.62</td></tr><tr><th>&vellip;</th><td>&vellip;</td><td>&vellip;</td></tr></tbody></table></div>"
      ],
      "text/latex": [
       "\\begin{tabular}{r|cc}\n",
       "\t& Date & Open\\\\\n",
       "\t\\hline\n",
       "\t& String15 & Float64\\\\\n",
       "\t\\hline\n",
       "\t1 & Mar 15, 2022 & 172.6 \\\\\n",
       "\t2 & Mar 14, 2022 & 179.65 \\\\\n",
       "\t3 & Mar 11, 2022 & 189.26 \\\\\n",
       "\t4 & Mar 10, 2022 & 190.33 \\\\\n",
       "\t5 & Mar 09, 2022 & 206.83 \\\\\n",
       "\t6 & Mar 08, 2022 & 223.69 \\\\\n",
       "\t7 & Mar 07, 2022 & 210.69 \\\\\n",
       "\t8 & Mar 04, 2022 & 195.25 \\\\\n",
       "\t9 & Mar 03, 2022 & 185.89 \\\\\n",
       "\t10 & Mar 02, 2022 & 185.89 \\\\\n",
       "\t11 & Mar 01, 2022 & 165.45 \\\\\n",
       "\t12 & Feb 28, 2022 & 165.45 \\\\\n",
       "\t13 & Feb 25, 2022 & 156.28 \\\\\n",
       "\t14 & Feb 24, 2022 & 168.42 \\\\\n",
       "\t15 & Feb 23, 2022 & 160.48 \\\\\n",
       "\t16 & Feb 22, 2022 & 160.05 \\\\\n",
       "\t17 & Feb 18, 2022 & 155.85 \\\\\n",
       "\t18 & Feb 17, 2022 & 154.98 \\\\\n",
       "\t19 & Feb 16, 2022 & 159.7 \\\\\n",
       "\t20 & Feb 15, 2022 & 155.25 \\\\\n",
       "\t21 & Feb 14, 2022 & 159.1 \\\\\n",
       "\t22 & Feb 11, 2022 & 156.67 \\\\\n",
       "\t23 & Feb 10, 2022 & 156.33 \\\\\n",
       "\t24 & Feb 09, 2022 & 154.83 \\\\\n",
       "\t25 & Feb 08, 2022 & 151.89 \\\\\n",
       "\t26 & Feb 07, 2022 & 156.99 \\\\\n",
       "\t27 & Feb 04, 2022 & 157.64 \\\\\n",
       "\t28 & Feb 03, 2022 & 151.76 \\\\\n",
       "\t29 & Feb 02, 2022 & 149.47 \\\\\n",
       "\t30 & Feb 01, 2022 & 150.62 \\\\\n",
       "\t$\\dots$ & $\\dots$ & $\\dots$ \\\\\n",
       "\\end{tabular}\n"
      ],
      "text/plain": [
       "\u001b[1m253×2 DataFrame\u001b[0m\n",
       "\u001b[1m Row \u001b[0m│\u001b[1m Date         \u001b[0m\u001b[1m Open    \u001b[0m\n",
       "\u001b[1m     \u001b[0m│\u001b[90m String15     \u001b[0m\u001b[90m Float64 \u001b[0m\n",
       "─────┼───────────────────────\n",
       "   1 │ Mar 15, 2022   172.6\n",
       "   2 │ Mar 14, 2022   179.65\n",
       "   3 │ Mar 11, 2022   189.26\n",
       "   4 │ Mar 10, 2022   190.33\n",
       "   5 │ Mar 09, 2022   206.83\n",
       "   6 │ Mar 08, 2022   223.69\n",
       "   7 │ Mar 07, 2022   210.69\n",
       "   8 │ Mar 04, 2022   195.25\n",
       "   9 │ Mar 03, 2022   185.89\n",
       "  10 │ Mar 02, 2022   185.89\n",
       "  11 │ Mar 01, 2022   165.45\n",
       "  ⋮  │      ⋮           ⋮\n",
       " 244 │ Mar 26, 2021    99.5\n",
       " 245 │ Mar 25, 2021    99.5\n",
       " 246 │ Mar 24, 2021    99.5\n",
       " 247 │ Mar 23, 2021    99.5\n",
       " 248 │ Mar 22, 2021    99.5\n",
       " 249 │ Mar 19, 2021    98.87\n",
       " 250 │ Mar 18, 2021   100.37\n",
       " 251 │ Mar 17, 2021   103.99\n",
       " 252 │ Mar 16, 2021   104.79\n",
       " 253 │ Mar 15, 2021   105.69\n",
       "\u001b[36m             232 rows omitted\u001b[0m"
      ]
     },
     "execution_count": 334,
     "metadata": {},
     "output_type": "execute_result"
    }
   ],
   "source": [
    "dfGold =CSV.read(\"Gold.csv\",DataFrame)[:,[\"Date\",\"Open\"]]"
   ]
  },
  {
   "cell_type": "code",
   "execution_count": 335,
   "id": "0cfd1533",
   "metadata": {},
   "outputs": [
    {
     "data": {
      "text/html": [
       "<div class=\"data-frame\"><p>312 rows × 2 columns</p><table class=\"data-frame\"><thead><tr><th></th><th>Date</th><th>Open</th></tr><tr><th></th><th title=\"String15\">String15</th><th title=\"Float64\">Float64</th></tr></thead><tbody><tr><th>1</th><td>Mar 15, 2022</td><td>25.26</td></tr><tr><th>2</th><td>Mar 14, 2022</td><td>26.28</td></tr><tr><th>3</th><td>Mar 13, 2022</td><td>26.15</td></tr><tr><th>4</th><td>Mar 11, 2022</td><td>26.26</td></tr><tr><th>5</th><td>Mar 10, 2022</td><td>26.06</td></tr><tr><th>6</th><td>Mar 09, 2022</td><td>26.93</td></tr><tr><th>7</th><td>Mar 08, 2022</td><td>25.81</td></tr><tr><th>8</th><td>Mar 07, 2022</td><td>26.03</td></tr><tr><th>9</th><td>Mar 06, 2022</td><td>25.86</td></tr><tr><th>10</th><td>Mar 04, 2022</td><td>25.29</td></tr><tr><th>11</th><td>Mar 03, 2022</td><td>25.45</td></tr><tr><th>12</th><td>Mar 02, 2022</td><td>25.51</td></tr><tr><th>13</th><td>Mar 01, 2022</td><td>24.46</td></tr><tr><th>14</th><td>Feb 28, 2022</td><td>24.62</td></tr><tr><th>15</th><td>Feb 27, 2022</td><td>24.2</td></tr><tr><th>16</th><td>Feb 25, 2022</td><td>24.33</td></tr><tr><th>17</th><td>Feb 24, 2022</td><td>24.65</td></tr><tr><th>18</th><td>Feb 23, 2022</td><td>24.2</td></tr><tr><th>19</th><td>Feb 22, 2022</td><td>24.1</td></tr><tr><th>20</th><td>Feb 21, 2022</td><td>24.03</td></tr><tr><th>21</th><td>Feb 20, 2022</td><td>23.94</td></tr><tr><th>22</th><td>Feb 18, 2022</td><td>23.9</td></tr><tr><th>23</th><td>Feb 17, 2022</td><td>23.68</td></tr><tr><th>24</th><td>Feb 16, 2022</td><td>23.45</td></tr><tr><th>25</th><td>Feb 15, 2022</td><td>23.94</td></tr><tr><th>26</th><td>Feb 14, 2022</td><td>23.65</td></tr><tr><th>27</th><td>Feb 13, 2022</td><td>23.62</td></tr><tr><th>28</th><td>Feb 11, 2022</td><td>23.25</td></tr><tr><th>29</th><td>Feb 10, 2022</td><td>23.33</td></tr><tr><th>30</th><td>Feb 09, 2022</td><td>23.23</td></tr><tr><th>&vellip;</th><td>&vellip;</td><td>&vellip;</td></tr></tbody></table></div>"
      ],
      "text/latex": [
       "\\begin{tabular}{r|cc}\n",
       "\t& Date & Open\\\\\n",
       "\t\\hline\n",
       "\t& String15 & Float64\\\\\n",
       "\t\\hline\n",
       "\t1 & Mar 15, 2022 & 25.26 \\\\\n",
       "\t2 & Mar 14, 2022 & 26.28 \\\\\n",
       "\t3 & Mar 13, 2022 & 26.15 \\\\\n",
       "\t4 & Mar 11, 2022 & 26.26 \\\\\n",
       "\t5 & Mar 10, 2022 & 26.06 \\\\\n",
       "\t6 & Mar 09, 2022 & 26.93 \\\\\n",
       "\t7 & Mar 08, 2022 & 25.81 \\\\\n",
       "\t8 & Mar 07, 2022 & 26.03 \\\\\n",
       "\t9 & Mar 06, 2022 & 25.86 \\\\\n",
       "\t10 & Mar 04, 2022 & 25.29 \\\\\n",
       "\t11 & Mar 03, 2022 & 25.45 \\\\\n",
       "\t12 & Mar 02, 2022 & 25.51 \\\\\n",
       "\t13 & Mar 01, 2022 & 24.46 \\\\\n",
       "\t14 & Feb 28, 2022 & 24.62 \\\\\n",
       "\t15 & Feb 27, 2022 & 24.2 \\\\\n",
       "\t16 & Feb 25, 2022 & 24.33 \\\\\n",
       "\t17 & Feb 24, 2022 & 24.65 \\\\\n",
       "\t18 & Feb 23, 2022 & 24.2 \\\\\n",
       "\t19 & Feb 22, 2022 & 24.1 \\\\\n",
       "\t20 & Feb 21, 2022 & 24.03 \\\\\n",
       "\t21 & Feb 20, 2022 & 23.94 \\\\\n",
       "\t22 & Feb 18, 2022 & 23.9 \\\\\n",
       "\t23 & Feb 17, 2022 & 23.68 \\\\\n",
       "\t24 & Feb 16, 2022 & 23.45 \\\\\n",
       "\t25 & Feb 15, 2022 & 23.94 \\\\\n",
       "\t26 & Feb 14, 2022 & 23.65 \\\\\n",
       "\t27 & Feb 13, 2022 & 23.62 \\\\\n",
       "\t28 & Feb 11, 2022 & 23.25 \\\\\n",
       "\t29 & Feb 10, 2022 & 23.33 \\\\\n",
       "\t30 & Feb 09, 2022 & 23.23 \\\\\n",
       "\t$\\dots$ & $\\dots$ & $\\dots$ \\\\\n",
       "\\end{tabular}\n"
      ],
      "text/plain": [
       "\u001b[1m312×2 DataFrame\u001b[0m\n",
       "\u001b[1m Row \u001b[0m│\u001b[1m Date         \u001b[0m\u001b[1m Open    \u001b[0m\n",
       "\u001b[1m     \u001b[0m│\u001b[90m String15     \u001b[0m\u001b[90m Float64 \u001b[0m\n",
       "─────┼───────────────────────\n",
       "   1 │ Mar 15, 2022    25.26\n",
       "   2 │ Mar 14, 2022    26.28\n",
       "   3 │ Mar 13, 2022    26.15\n",
       "   4 │ Mar 11, 2022    26.26\n",
       "   5 │ Mar 10, 2022    26.06\n",
       "   6 │ Mar 09, 2022    26.93\n",
       "   7 │ Mar 08, 2022    25.81\n",
       "   8 │ Mar 07, 2022    26.03\n",
       "   9 │ Mar 06, 2022    25.86\n",
       "  10 │ Mar 04, 2022    25.29\n",
       "  11 │ Mar 03, 2022    25.45\n",
       "  ⋮  │      ⋮           ⋮\n",
       " 303 │ Mar 25, 2021    25.2\n",
       " 304 │ Mar 24, 2021    25.25\n",
       " 305 │ Mar 23, 2021    25.77\n",
       " 306 │ Mar 22, 2021    26.05\n",
       " 307 │ Mar 21, 2021    26.34\n",
       " 308 │ Mar 19, 2021    26.22\n",
       " 309 │ Mar 18, 2021    26.51\n",
       " 310 │ Mar 17, 2021    25.97\n",
       " 311 │ Mar 16, 2021    26.38\n",
       " 312 │ Mar 15, 2021    26.07\n",
       "\u001b[36m             291 rows omitted\u001b[0m"
      ]
     },
     "execution_count": 335,
     "metadata": {},
     "output_type": "execute_result"
    }
   ],
   "source": [
    "dfSilver = CSV.read(\"Silver.csv\",DataFrame)[:,[\"Date\",\"Open\"]]"
   ]
  },
  {
   "cell_type": "code",
   "execution_count": 336,
   "id": "360ca005",
   "metadata": {},
   "outputs": [
    {
     "data": {
      "text/html": [
       "<div class=\"data-frame\"><p>266 rows × 2 columns</p><table class=\"data-frame\"><thead><tr><th></th><th>Date</th><th>Open</th></tr><tr><th></th><th title=\"String15\">String15</th><th title=\"Float64\">Float64</th></tr></thead><tbody><tr><th>1</th><td>Mar 15, 2022</td><td>1953.7</td></tr><tr><th>2</th><td>Mar 14, 2022</td><td>1988.7</td></tr><tr><th>3</th><td>Mar 11, 2022</td><td>2000.3</td></tr><tr><th>4</th><td>Mar 10, 2022</td><td>1992.8</td></tr><tr><th>5</th><td>Mar 09, 2022</td><td>2060.2</td></tr><tr><th>6</th><td>Mar 08, 2022</td><td>2001.0</td></tr><tr><th>7</th><td>Mar 07, 2022</td><td>1978.5</td></tr><tr><th>8</th><td>Mar 04, 2022</td><td>1938.5</td></tr><tr><th>9</th><td>Mar 03, 2022</td><td>1931.7</td></tr><tr><th>10</th><td>Mar 02, 2022</td><td>1945.3</td></tr><tr><th>11</th><td>Mar 01, 2022</td><td>1908.4</td></tr><tr><th>12</th><td>Feb 28, 2022</td><td>1921.0</td></tr><tr><th>13</th><td>Feb 25, 2022</td><td>1906.5</td></tr><tr><th>14</th><td>Feb 24, 2022</td><td>1911.9</td></tr><tr><th>15</th><td>Feb 23, 2022</td><td>1901.2</td></tr><tr><th>16</th><td>Feb 22, 2022</td><td>1903.5</td></tr><tr><th>17</th><td>Feb 21, 2022</td><td>1907.8</td></tr><tr><th>18</th><td>Feb 20, 2022</td><td>1900.8</td></tr><tr><th>19</th><td>Feb 18, 2022</td><td>1901.4</td></tr><tr><th>20</th><td>Feb 17, 2022</td><td>1872.0</td></tr><tr><th>21</th><td>Feb 16, 2022</td><td>1855.5</td></tr><tr><th>22</th><td>Feb 15, 2022</td><td>1873.8</td></tr><tr><th>23</th><td>Feb 14, 2022</td><td>1862.2</td></tr><tr><th>24</th><td>Feb 11, 2022</td><td>1827.0</td></tr><tr><th>25</th><td>Feb 10, 2022</td><td>1834.0</td></tr><tr><th>26</th><td>Feb 09, 2022</td><td>1827.0</td></tr><tr><th>27</th><td>Feb 08, 2022</td><td>1821.5</td></tr><tr><th>28</th><td>Feb 07, 2022</td><td>1808.0</td></tr><tr><th>29</th><td>Feb 04, 2022</td><td>1805.4</td></tr><tr><th>30</th><td>Feb 03, 2022</td><td>1807.4</td></tr><tr><th>&vellip;</th><td>&vellip;</td><td>&vellip;</td></tr></tbody></table></div>"
      ],
      "text/latex": [
       "\\begin{tabular}{r|cc}\n",
       "\t& Date & Open\\\\\n",
       "\t\\hline\n",
       "\t& String15 & Float64\\\\\n",
       "\t\\hline\n",
       "\t1 & Mar 15, 2022 & 1953.7 \\\\\n",
       "\t2 & Mar 14, 2022 & 1988.7 \\\\\n",
       "\t3 & Mar 11, 2022 & 2000.3 \\\\\n",
       "\t4 & Mar 10, 2022 & 1992.8 \\\\\n",
       "\t5 & Mar 09, 2022 & 2060.2 \\\\\n",
       "\t6 & Mar 08, 2022 & 2001.0 \\\\\n",
       "\t7 & Mar 07, 2022 & 1978.5 \\\\\n",
       "\t8 & Mar 04, 2022 & 1938.5 \\\\\n",
       "\t9 & Mar 03, 2022 & 1931.7 \\\\\n",
       "\t10 & Mar 02, 2022 & 1945.3 \\\\\n",
       "\t11 & Mar 01, 2022 & 1908.4 \\\\\n",
       "\t12 & Feb 28, 2022 & 1921.0 \\\\\n",
       "\t13 & Feb 25, 2022 & 1906.5 \\\\\n",
       "\t14 & Feb 24, 2022 & 1911.9 \\\\\n",
       "\t15 & Feb 23, 2022 & 1901.2 \\\\\n",
       "\t16 & Feb 22, 2022 & 1903.5 \\\\\n",
       "\t17 & Feb 21, 2022 & 1907.8 \\\\\n",
       "\t18 & Feb 20, 2022 & 1900.8 \\\\\n",
       "\t19 & Feb 18, 2022 & 1901.4 \\\\\n",
       "\t20 & Feb 17, 2022 & 1872.0 \\\\\n",
       "\t21 & Feb 16, 2022 & 1855.5 \\\\\n",
       "\t22 & Feb 15, 2022 & 1873.8 \\\\\n",
       "\t23 & Feb 14, 2022 & 1862.2 \\\\\n",
       "\t24 & Feb 11, 2022 & 1827.0 \\\\\n",
       "\t25 & Feb 10, 2022 & 1834.0 \\\\\n",
       "\t26 & Feb 09, 2022 & 1827.0 \\\\\n",
       "\t27 & Feb 08, 2022 & 1821.5 \\\\\n",
       "\t28 & Feb 07, 2022 & 1808.0 \\\\\n",
       "\t29 & Feb 04, 2022 & 1805.4 \\\\\n",
       "\t30 & Feb 03, 2022 & 1807.4 \\\\\n",
       "\t$\\dots$ & $\\dots$ & $\\dots$ \\\\\n",
       "\\end{tabular}\n"
      ],
      "text/plain": [
       "\u001b[1m266×2 DataFrame\u001b[0m\n",
       "\u001b[1m Row \u001b[0m│\u001b[1m Date         \u001b[0m\u001b[1m Open    \u001b[0m\n",
       "\u001b[1m     \u001b[0m│\u001b[90m String15     \u001b[0m\u001b[90m Float64 \u001b[0m\n",
       "─────┼───────────────────────\n",
       "   1 │ Mar 15, 2022   1953.7\n",
       "   2 │ Mar 14, 2022   1988.7\n",
       "   3 │ Mar 11, 2022   2000.3\n",
       "   4 │ Mar 10, 2022   1992.8\n",
       "   5 │ Mar 09, 2022   2060.2\n",
       "   6 │ Mar 08, 2022   2001.0\n",
       "   7 │ Mar 07, 2022   1978.5\n",
       "   8 │ Mar 04, 2022   1938.5\n",
       "   9 │ Mar 03, 2022   1931.7\n",
       "  10 │ Mar 02, 2022   1945.3\n",
       "  11 │ Mar 01, 2022   1908.4\n",
       "  ⋮  │      ⋮           ⋮\n",
       " 257 │ Mar 26, 2021   1732.5\n",
       " 258 │ Mar 25, 2021   1745.1\n",
       " 259 │ Mar 24, 2021   1742.4\n",
       " 260 │ Mar 23, 2021   1738.0\n",
       " 261 │ Mar 22, 2021   1746.5\n",
       " 262 │ Mar 19, 2021   1752.4\n",
       " 263 │ Mar 18, 2021   1744.7\n",
       " 264 │ Mar 17, 2021   1737.8\n",
       " 265 │ Mar 16, 2021   1748.9\n",
       " 266 │ Mar 15, 2021   1737.5\n",
       "\u001b[36m             245 rows omitted\u001b[0m"
      ]
     },
     "execution_count": 336,
     "metadata": {},
     "output_type": "execute_result"
    }
   ],
   "source": [
    "dfPetrol = CSV.read(\"Petrol.csv\",DataFrame)[:,[\"Date\",\"Open\"]]"
   ]
  },
  {
   "cell_type": "markdown",
   "id": "d40b42e0",
   "metadata": {},
   "source": [
    "Sin embargo si observamos con detenemiento los anteriores dataframes vemos que tenemos datos incompletos, si bien esto tal vez nos sugeriría buscar otro lugar de donde sacar los datos también es una buena oportunidad para poner en practica la limpieza de datos, parte muy requerida de cualquier análisis "
   ]
  },
  {
   "cell_type": "code",
   "execution_count": 337,
   "id": "110b9eb8",
   "metadata": {},
   "outputs": [
    {
     "data": {
      "text/html": [
       "<div class=\"data-frame\"><p>253 rows × 4 columns</p><table class=\"data-frame\"><thead><tr><th></th><th>Date</th><th>Open</th><th>Open_1</th><th>Open_2</th></tr><tr><th></th><th title=\"String15\">String15</th><th title=\"Float64\">Float64</th><th title=\"Float64\">Float64</th><th title=\"Float64\">Float64</th></tr></thead><tbody><tr><th>1</th><td>Mar 15, 2022</td><td>172.6</td><td>25.26</td><td>1953.7</td></tr><tr><th>2</th><td>Mar 14, 2022</td><td>179.65</td><td>26.28</td><td>1988.7</td></tr><tr><th>3</th><td>Mar 11, 2022</td><td>189.26</td><td>26.26</td><td>2000.3</td></tr><tr><th>4</th><td>Mar 10, 2022</td><td>190.33</td><td>26.06</td><td>1992.8</td></tr><tr><th>5</th><td>Mar 09, 2022</td><td>206.83</td><td>26.93</td><td>2060.2</td></tr><tr><th>6</th><td>Mar 08, 2022</td><td>223.69</td><td>25.81</td><td>2001.0</td></tr><tr><th>7</th><td>Mar 07, 2022</td><td>210.69</td><td>26.03</td><td>1978.5</td></tr><tr><th>8</th><td>Mar 04, 2022</td><td>195.25</td><td>25.29</td><td>1938.5</td></tr><tr><th>9</th><td>Mar 03, 2022</td><td>185.89</td><td>25.45</td><td>1931.7</td></tr><tr><th>10</th><td>Mar 02, 2022</td><td>185.89</td><td>25.51</td><td>1945.3</td></tr><tr><th>11</th><td>Mar 01, 2022</td><td>165.45</td><td>24.46</td><td>1908.4</td></tr><tr><th>12</th><td>Feb 28, 2022</td><td>165.45</td><td>24.62</td><td>1921.0</td></tr><tr><th>13</th><td>Feb 25, 2022</td><td>156.28</td><td>24.33</td><td>1906.5</td></tr><tr><th>14</th><td>Feb 24, 2022</td><td>168.42</td><td>24.65</td><td>1911.9</td></tr><tr><th>15</th><td>Feb 23, 2022</td><td>160.48</td><td>24.2</td><td>1901.2</td></tr><tr><th>16</th><td>Feb 22, 2022</td><td>160.05</td><td>24.1</td><td>1903.5</td></tr><tr><th>17</th><td>Feb 18, 2022</td><td>155.85</td><td>23.9</td><td>1901.4</td></tr><tr><th>18</th><td>Feb 17, 2022</td><td>154.98</td><td>23.68</td><td>1872.0</td></tr><tr><th>19</th><td>Feb 16, 2022</td><td>159.7</td><td>23.45</td><td>1855.5</td></tr><tr><th>20</th><td>Feb 15, 2022</td><td>155.25</td><td>23.94</td><td>1873.8</td></tr><tr><th>21</th><td>Feb 14, 2022</td><td>159.1</td><td>23.65</td><td>1862.2</td></tr><tr><th>22</th><td>Feb 11, 2022</td><td>156.67</td><td>23.25</td><td>1827.0</td></tr><tr><th>23</th><td>Feb 10, 2022</td><td>156.33</td><td>23.33</td><td>1834.0</td></tr><tr><th>24</th><td>Feb 09, 2022</td><td>154.83</td><td>23.23</td><td>1827.0</td></tr><tr><th>25</th><td>Feb 08, 2022</td><td>151.89</td><td>23.07</td><td>1821.5</td></tr><tr><th>26</th><td>Feb 07, 2022</td><td>156.99</td><td>22.58</td><td>1808.0</td></tr><tr><th>27</th><td>Feb 04, 2022</td><td>157.64</td><td>22.46</td><td>1805.4</td></tr><tr><th>28</th><td>Feb 03, 2022</td><td>151.76</td><td>22.7</td><td>1807.4</td></tr><tr><th>29</th><td>Feb 02, 2022</td><td>149.47</td><td>22.68</td><td>1800.8</td></tr><tr><th>30</th><td>Feb 01, 2022</td><td>150.62</td><td>22.52</td><td>1798.9</td></tr><tr><th>&vellip;</th><td>&vellip;</td><td>&vellip;</td><td>&vellip;</td><td>&vellip;</td></tr></tbody></table></div>"
      ],
      "text/latex": [
       "\\begin{tabular}{r|cccc}\n",
       "\t& Date & Open & Open\\_1 & Open\\_2\\\\\n",
       "\t\\hline\n",
       "\t& String15 & Float64 & Float64 & Float64\\\\\n",
       "\t\\hline\n",
       "\t1 & Mar 15, 2022 & 172.6 & 25.26 & 1953.7 \\\\\n",
       "\t2 & Mar 14, 2022 & 179.65 & 26.28 & 1988.7 \\\\\n",
       "\t3 & Mar 11, 2022 & 189.26 & 26.26 & 2000.3 \\\\\n",
       "\t4 & Mar 10, 2022 & 190.33 & 26.06 & 1992.8 \\\\\n",
       "\t5 & Mar 09, 2022 & 206.83 & 26.93 & 2060.2 \\\\\n",
       "\t6 & Mar 08, 2022 & 223.69 & 25.81 & 2001.0 \\\\\n",
       "\t7 & Mar 07, 2022 & 210.69 & 26.03 & 1978.5 \\\\\n",
       "\t8 & Mar 04, 2022 & 195.25 & 25.29 & 1938.5 \\\\\n",
       "\t9 & Mar 03, 2022 & 185.89 & 25.45 & 1931.7 \\\\\n",
       "\t10 & Mar 02, 2022 & 185.89 & 25.51 & 1945.3 \\\\\n",
       "\t11 & Mar 01, 2022 & 165.45 & 24.46 & 1908.4 \\\\\n",
       "\t12 & Feb 28, 2022 & 165.45 & 24.62 & 1921.0 \\\\\n",
       "\t13 & Feb 25, 2022 & 156.28 & 24.33 & 1906.5 \\\\\n",
       "\t14 & Feb 24, 2022 & 168.42 & 24.65 & 1911.9 \\\\\n",
       "\t15 & Feb 23, 2022 & 160.48 & 24.2 & 1901.2 \\\\\n",
       "\t16 & Feb 22, 2022 & 160.05 & 24.1 & 1903.5 \\\\\n",
       "\t17 & Feb 18, 2022 & 155.85 & 23.9 & 1901.4 \\\\\n",
       "\t18 & Feb 17, 2022 & 154.98 & 23.68 & 1872.0 \\\\\n",
       "\t19 & Feb 16, 2022 & 159.7 & 23.45 & 1855.5 \\\\\n",
       "\t20 & Feb 15, 2022 & 155.25 & 23.94 & 1873.8 \\\\\n",
       "\t21 & Feb 14, 2022 & 159.1 & 23.65 & 1862.2 \\\\\n",
       "\t22 & Feb 11, 2022 & 156.67 & 23.25 & 1827.0 \\\\\n",
       "\t23 & Feb 10, 2022 & 156.33 & 23.33 & 1834.0 \\\\\n",
       "\t24 & Feb 09, 2022 & 154.83 & 23.23 & 1827.0 \\\\\n",
       "\t25 & Feb 08, 2022 & 151.89 & 23.07 & 1821.5 \\\\\n",
       "\t26 & Feb 07, 2022 & 156.99 & 22.58 & 1808.0 \\\\\n",
       "\t27 & Feb 04, 2022 & 157.64 & 22.46 & 1805.4 \\\\\n",
       "\t28 & Feb 03, 2022 & 151.76 & 22.7 & 1807.4 \\\\\n",
       "\t29 & Feb 02, 2022 & 149.47 & 22.68 & 1800.8 \\\\\n",
       "\t30 & Feb 01, 2022 & 150.62 & 22.52 & 1798.9 \\\\\n",
       "\t$\\dots$ & $\\dots$ & $\\dots$ & $\\dots$ & $\\dots$ \\\\\n",
       "\\end{tabular}\n"
      ],
      "text/plain": [
       "\u001b[1m253×4 DataFrame\u001b[0m\n",
       "\u001b[1m Row \u001b[0m│\u001b[1m Date         \u001b[0m\u001b[1m Open    \u001b[0m\u001b[1m Open_1  \u001b[0m\u001b[1m Open_2  \u001b[0m\n",
       "\u001b[1m     \u001b[0m│\u001b[90m String15     \u001b[0m\u001b[90m Float64 \u001b[0m\u001b[90m Float64 \u001b[0m\u001b[90m Float64 \u001b[0m\n",
       "─────┼─────────────────────────────────────────\n",
       "   1 │ Mar 15, 2022   172.6     25.26   1953.7\n",
       "   2 │ Mar 14, 2022   179.65    26.28   1988.7\n",
       "   3 │ Mar 11, 2022   189.26    26.26   2000.3\n",
       "   4 │ Mar 10, 2022   190.33    26.06   1992.8\n",
       "   5 │ Mar 09, 2022   206.83    26.93   2060.2\n",
       "   6 │ Mar 08, 2022   223.69    25.81   2001.0\n",
       "   7 │ Mar 07, 2022   210.69    26.03   1978.5\n",
       "   8 │ Mar 04, 2022   195.25    25.29   1938.5\n",
       "   9 │ Mar 03, 2022   185.89    25.45   1931.7\n",
       "  10 │ Mar 02, 2022   185.89    25.51   1945.3\n",
       "  11 │ Mar 01, 2022   165.45    24.46   1908.4\n",
       "  ⋮  │      ⋮           ⋮        ⋮        ⋮\n",
       " 244 │ Mar 26, 2021    99.5     25.35   1732.5\n",
       " 245 │ Mar 25, 2021    99.5     25.2    1745.1\n",
       " 246 │ Mar 24, 2021    99.5     25.25   1742.4\n",
       " 247 │ Mar 23, 2021    99.5     25.77   1738.0\n",
       " 248 │ Mar 22, 2021    99.5     26.05   1746.5\n",
       " 249 │ Mar 19, 2021    98.87    26.22   1752.4\n",
       " 250 │ Mar 18, 2021   100.37    26.51   1744.7\n",
       " 251 │ Mar 17, 2021   103.99    25.97   1737.8\n",
       " 252 │ Mar 16, 2021   104.79    26.38   1748.9\n",
       " 253 │ Mar 15, 2021   105.69    26.07   1737.5\n",
       "\u001b[36m                               232 rows omitted\u001b[0m"
      ]
     },
     "execution_count": 337,
     "metadata": {},
     "output_type": "execute_result"
    }
   ],
   "source": [
    "dfFutures = innerjoin(dfGold,dfSilver,dfPetrol,on=:Date,makeunique=true)"
   ]
  },
  {
   "cell_type": "markdown",
   "id": "6220e1cb",
   "metadata": {},
   "source": [
    "Un problema no menor sin embargo es que estamos perdiendo las referencias temporales absolutas, debido a que las bolsas no abren todos los días o simplemente a que tenemos datos incompletos el indice del día 3 no corresponde con el día 3 desde el 15 de marzo, de hecho corresponde con un día ***4 días atras*** entonces debemos agregar un indexamiento que mantenga la escala temporal incluso con días perdidos en los datos e idealmente que siga la convención que el tiempo positivo es el sentido convencional, para esto mismo usaremos un nuevo compendio de datos esta vez que tenga la misma estructura de fechas (la cual era diferente en nuestro primer dataframe) y que ademas tenga valores para todos los días, asi teniendo un indexamiento correcto, luego usando la tecnica del inner join podemos obtener los indices en los cuales podremos entrenar"
   ]
  },
  {
   "cell_type": "code",
   "execution_count": 338,
   "id": "fe45bc4c",
   "metadata": {},
   "outputs": [
    {
     "data": {
      "text/html": [
       "<div class=\"data-frame\"><p>366 rows × 3 columns</p><table class=\"data-frame\"><thead><tr><th></th><th>Date</th><th>Open</th><th>day</th></tr><tr><th></th><th title=\"String15\">String15</th><th title=\"Float64\">Float64</th><th title=\"Float64\">Float64</th></tr></thead><tbody><tr><th>1</th><td>Mar 15, 2022</td><td>39717.9</td><td>366.0</td></tr><tr><th>2</th><td>Mar 14, 2022</td><td>37777.1</td><td>365.0</td></tr><tr><th>3</th><td>Mar 13, 2022</td><td>38816.3</td><td>364.0</td></tr><tr><th>4</th><td>Mar 12, 2022</td><td>38737.0</td><td>363.0</td></tr><tr><th>5</th><td>Mar 11, 2022</td><td>39458.5</td><td>362.0</td></tr><tr><th>6</th><td>Mar 10, 2022</td><td>41964.0</td><td>361.0</td></tr><tr><th>7</th><td>Mar 09, 2022</td><td>38757.0</td><td>360.0</td></tr><tr><th>8</th><td>Mar 08, 2022</td><td>38039.0</td><td>359.0</td></tr><tr><th>9</th><td>Mar 07, 2022</td><td>38437.0</td><td>358.0</td></tr><tr><th>10</th><td>Mar 06, 2022</td><td>39408.0</td><td>357.0</td></tr><tr><th>11</th><td>Mar 05, 2022</td><td>39171.0</td><td>356.0</td></tr><tr><th>12</th><td>Mar 04, 2022</td><td>42489.0</td><td>355.0</td></tr><tr><th>13</th><td>Mar 03, 2022</td><td>43952.0</td><td>354.0</td></tr><tr><th>14</th><td>Mar 02, 2022</td><td>44442.0</td><td>353.0</td></tr><tr><th>15</th><td>Mar 01, 2022</td><td>43202.0</td><td>352.0</td></tr><tr><th>16</th><td>Feb 28, 2022</td><td>37734.0</td><td>351.0</td></tr><tr><th>17</th><td>Feb 27, 2022</td><td>39137.1</td><td>350.0</td></tr><tr><th>18</th><td>Feb 26, 2022</td><td>39243.0</td><td>349.0</td></tr><tr><th>19</th><td>Feb 25, 2022</td><td>38380.0</td><td>348.0</td></tr><tr><th>20</th><td>Feb 24, 2022</td><td>37292.0</td><td>347.0</td></tr><tr><th>21</th><td>Feb 23, 2022</td><td>38299.0</td><td>346.0</td></tr><tr><th>22</th><td>Feb 22, 2022</td><td>37060.9</td><td>345.0</td></tr><tr><th>23</th><td>Feb 21, 2022</td><td>38420.0</td><td>344.0</td></tr><tr><th>24</th><td>Feb 20, 2022</td><td>40128.0</td><td>343.0</td></tr><tr><th>25</th><td>Feb 19, 2022</td><td>40037.0</td><td>342.0</td></tr><tr><th>26</th><td>Feb 18, 2022</td><td>40559.0</td><td>341.0</td></tr><tr><th>27</th><td>Feb 17, 2022</td><td>43885.0</td><td>340.0</td></tr><tr><th>28</th><td>Feb 16, 2022</td><td>44559.9</td><td>339.0</td></tr><tr><th>29</th><td>Feb 15, 2022</td><td>42559.9</td><td>338.0</td></tr><tr><th>30</th><td>Feb 14, 2022</td><td>42091.0</td><td>337.0</td></tr><tr><th>&vellip;</th><td>&vellip;</td><td>&vellip;</td><td>&vellip;</td></tr></tbody></table></div>"
      ],
      "text/latex": [
       "\\begin{tabular}{r|ccc}\n",
       "\t& Date & Open & day\\\\\n",
       "\t\\hline\n",
       "\t& String15 & Float64 & Float64\\\\\n",
       "\t\\hline\n",
       "\t1 & Mar 15, 2022 & 39717.9 & 366.0 \\\\\n",
       "\t2 & Mar 14, 2022 & 37777.1 & 365.0 \\\\\n",
       "\t3 & Mar 13, 2022 & 38816.3 & 364.0 \\\\\n",
       "\t4 & Mar 12, 2022 & 38737.0 & 363.0 \\\\\n",
       "\t5 & Mar 11, 2022 & 39458.5 & 362.0 \\\\\n",
       "\t6 & Mar 10, 2022 & 41964.0 & 361.0 \\\\\n",
       "\t7 & Mar 09, 2022 & 38757.0 & 360.0 \\\\\n",
       "\t8 & Mar 08, 2022 & 38039.0 & 359.0 \\\\\n",
       "\t9 & Mar 07, 2022 & 38437.0 & 358.0 \\\\\n",
       "\t10 & Mar 06, 2022 & 39408.0 & 357.0 \\\\\n",
       "\t11 & Mar 05, 2022 & 39171.0 & 356.0 \\\\\n",
       "\t12 & Mar 04, 2022 & 42489.0 & 355.0 \\\\\n",
       "\t13 & Mar 03, 2022 & 43952.0 & 354.0 \\\\\n",
       "\t14 & Mar 02, 2022 & 44442.0 & 353.0 \\\\\n",
       "\t15 & Mar 01, 2022 & 43202.0 & 352.0 \\\\\n",
       "\t16 & Feb 28, 2022 & 37734.0 & 351.0 \\\\\n",
       "\t17 & Feb 27, 2022 & 39137.1 & 350.0 \\\\\n",
       "\t18 & Feb 26, 2022 & 39243.0 & 349.0 \\\\\n",
       "\t19 & Feb 25, 2022 & 38380.0 & 348.0 \\\\\n",
       "\t20 & Feb 24, 2022 & 37292.0 & 347.0 \\\\\n",
       "\t21 & Feb 23, 2022 & 38299.0 & 346.0 \\\\\n",
       "\t22 & Feb 22, 2022 & 37060.9 & 345.0 \\\\\n",
       "\t23 & Feb 21, 2022 & 38420.0 & 344.0 \\\\\n",
       "\t24 & Feb 20, 2022 & 40128.0 & 343.0 \\\\\n",
       "\t25 & Feb 19, 2022 & 40037.0 & 342.0 \\\\\n",
       "\t26 & Feb 18, 2022 & 40559.0 & 341.0 \\\\\n",
       "\t27 & Feb 17, 2022 & 43885.0 & 340.0 \\\\\n",
       "\t28 & Feb 16, 2022 & 44559.9 & 339.0 \\\\\n",
       "\t29 & Feb 15, 2022 & 42559.9 & 338.0 \\\\\n",
       "\t30 & Feb 14, 2022 & 42091.0 & 337.0 \\\\\n",
       "\t$\\dots$ & $\\dots$ & $\\dots$ & $\\dots$ \\\\\n",
       "\\end{tabular}\n"
      ],
      "text/plain": [
       "\u001b[1m366×3 DataFrame\u001b[0m\n",
       "\u001b[1m Row \u001b[0m│\u001b[1m Date         \u001b[0m\u001b[1m Open    \u001b[0m\u001b[1m day     \u001b[0m\n",
       "\u001b[1m     \u001b[0m│\u001b[90m String15     \u001b[0m\u001b[90m Float64 \u001b[0m\u001b[90m Float64 \u001b[0m\n",
       "─────┼────────────────────────────────\n",
       "   1 │ Mar 15, 2022  39717.9    366.0\n",
       "   2 │ Mar 14, 2022  37777.1    365.0\n",
       "   3 │ Mar 13, 2022  38816.3    364.0\n",
       "   4 │ Mar 12, 2022  38737.0    363.0\n",
       "   5 │ Mar 11, 2022  39458.5    362.0\n",
       "   6 │ Mar 10, 2022  41964.0    361.0\n",
       "   7 │ Mar 09, 2022  38757.0    360.0\n",
       "   8 │ Mar 08, 2022  38039.0    359.0\n",
       "   9 │ Mar 07, 2022  38437.0    358.0\n",
       "  10 │ Mar 06, 2022  39408.0    357.0\n",
       "  11 │ Mar 05, 2022  39171.0    356.0\n",
       "  ⋮  │      ⋮           ⋮        ⋮\n",
       " 357 │ Mar 24, 2021  54331.0     10.0\n",
       " 358 │ Mar 23, 2021  54074.0      9.0\n",
       " 359 │ Mar 22, 2021  57368.0      8.0\n",
       " 360 │ Mar 21, 2021  58087.0      7.0\n",
       " 361 │ Mar 20, 2021  58074.0      6.0\n",
       " 362 │ Mar 19, 2021  57640.0      5.0\n",
       " 363 │ Mar 18, 2021  58870.0      4.0\n",
       " 364 │ Mar 17, 2021  56924.0      3.0\n",
       " 365 │ Mar 16, 2021  55644.0      2.0\n",
       " 366 │ Mar 15, 2021  59005.0      1.0\n",
       "\u001b[36m                      345 rows omitted\u001b[0m"
      ]
     },
     "execution_count": 338,
     "metadata": {},
     "output_type": "execute_result"
    }
   ],
   "source": [
    "dfBitcoin = CSV.read(\"bitcoinDayAware.csv\",DataFrame)[:,[\"Date\",\"Open\",\"day\"]]"
   ]
  },
  {
   "cell_type": "markdown",
   "id": "38114543",
   "metadata": {},
   "source": [
    "***Datos completos***\n",
    "\n",
    "Así Finalmente tenemos fechas donde tenemos los datos para todos los insumos\n",
    "\n"
   ]
  },
  {
   "cell_type": "code",
   "execution_count": 339,
   "id": "0e9f3382",
   "metadata": {},
   "outputs": [
    {
     "data": {
      "text/html": [
       "<div class=\"data-frame\"><p>253 rows × 6 columns</p><table class=\"data-frame\"><thead><tr><th></th><th>Date</th><th>Open</th><th>Open_1</th><th>Open_2</th><th>Open_3</th><th>day</th></tr><tr><th></th><th title=\"String15\">String15</th><th title=\"Float64\">Float64</th><th title=\"Float64\">Float64</th><th title=\"Float64\">Float64</th><th title=\"Float64\">Float64</th><th title=\"Float64\">Float64</th></tr></thead><tbody><tr><th>1</th><td>Mar 15, 2022</td><td>172.6</td><td>25.26</td><td>1953.7</td><td>39717.9</td><td>366.0</td></tr><tr><th>2</th><td>Mar 14, 2022</td><td>179.65</td><td>26.28</td><td>1988.7</td><td>37777.1</td><td>365.0</td></tr><tr><th>3</th><td>Mar 11, 2022</td><td>189.26</td><td>26.26</td><td>2000.3</td><td>39458.5</td><td>362.0</td></tr><tr><th>4</th><td>Mar 10, 2022</td><td>190.33</td><td>26.06</td><td>1992.8</td><td>41964.0</td><td>361.0</td></tr><tr><th>5</th><td>Mar 09, 2022</td><td>206.83</td><td>26.93</td><td>2060.2</td><td>38757.0</td><td>360.0</td></tr><tr><th>6</th><td>Mar 08, 2022</td><td>223.69</td><td>25.81</td><td>2001.0</td><td>38039.0</td><td>359.0</td></tr><tr><th>7</th><td>Mar 07, 2022</td><td>210.69</td><td>26.03</td><td>1978.5</td><td>38437.0</td><td>358.0</td></tr><tr><th>8</th><td>Mar 04, 2022</td><td>195.25</td><td>25.29</td><td>1938.5</td><td>42489.0</td><td>355.0</td></tr><tr><th>9</th><td>Mar 03, 2022</td><td>185.89</td><td>25.45</td><td>1931.7</td><td>43952.0</td><td>354.0</td></tr><tr><th>10</th><td>Mar 02, 2022</td><td>185.89</td><td>25.51</td><td>1945.3</td><td>44442.0</td><td>353.0</td></tr><tr><th>11</th><td>Mar 01, 2022</td><td>165.45</td><td>24.46</td><td>1908.4</td><td>43202.0</td><td>352.0</td></tr><tr><th>12</th><td>Feb 28, 2022</td><td>165.45</td><td>24.62</td><td>1921.0</td><td>37734.0</td><td>351.0</td></tr><tr><th>13</th><td>Feb 25, 2022</td><td>156.28</td><td>24.33</td><td>1906.5</td><td>38380.0</td><td>348.0</td></tr><tr><th>14</th><td>Feb 24, 2022</td><td>168.42</td><td>24.65</td><td>1911.9</td><td>37292.0</td><td>347.0</td></tr><tr><th>15</th><td>Feb 23, 2022</td><td>160.48</td><td>24.2</td><td>1901.2</td><td>38299.0</td><td>346.0</td></tr><tr><th>16</th><td>Feb 22, 2022</td><td>160.05</td><td>24.1</td><td>1903.5</td><td>37060.9</td><td>345.0</td></tr><tr><th>17</th><td>Feb 18, 2022</td><td>155.85</td><td>23.9</td><td>1901.4</td><td>40559.0</td><td>341.0</td></tr><tr><th>18</th><td>Feb 17, 2022</td><td>154.98</td><td>23.68</td><td>1872.0</td><td>43885.0</td><td>340.0</td></tr><tr><th>19</th><td>Feb 16, 2022</td><td>159.7</td><td>23.45</td><td>1855.5</td><td>44559.9</td><td>339.0</td></tr><tr><th>20</th><td>Feb 15, 2022</td><td>155.25</td><td>23.94</td><td>1873.8</td><td>42559.9</td><td>338.0</td></tr><tr><th>21</th><td>Feb 14, 2022</td><td>159.1</td><td>23.65</td><td>1862.2</td><td>42091.0</td><td>337.0</td></tr><tr><th>22</th><td>Feb 11, 2022</td><td>156.67</td><td>23.25</td><td>1827.0</td><td>43545.0</td><td>334.0</td></tr><tr><th>23</th><td>Feb 10, 2022</td><td>156.33</td><td>23.33</td><td>1834.0</td><td>44432.0</td><td>333.0</td></tr><tr><th>24</th><td>Feb 09, 2022</td><td>154.83</td><td>23.23</td><td>1827.0</td><td>44060.5</td><td>332.0</td></tr><tr><th>25</th><td>Feb 08, 2022</td><td>151.89</td><td>23.07</td><td>1821.5</td><td>43865.0</td><td>331.0</td></tr><tr><th>26</th><td>Feb 07, 2022</td><td>156.99</td><td>22.58</td><td>1808.0</td><td>42416.0</td><td>330.0</td></tr><tr><th>27</th><td>Feb 04, 2022</td><td>157.64</td><td>22.46</td><td>1805.4</td><td>37331.0</td><td>327.0</td></tr><tr><th>28</th><td>Feb 03, 2022</td><td>151.76</td><td>22.7</td><td>1807.4</td><td>36925.0</td><td>326.0</td></tr><tr><th>29</th><td>Feb 02, 2022</td><td>149.47</td><td>22.68</td><td>1800.8</td><td>38733.0</td><td>325.0</td></tr><tr><th>30</th><td>Feb 01, 2022</td><td>150.62</td><td>22.52</td><td>1798.9</td><td>38495.0</td><td>324.0</td></tr><tr><th>&vellip;</th><td>&vellip;</td><td>&vellip;</td><td>&vellip;</td><td>&vellip;</td><td>&vellip;</td><td>&vellip;</td></tr></tbody></table></div>"
      ],
      "text/latex": [
       "\\begin{tabular}{r|cccccc}\n",
       "\t& Date & Open & Open\\_1 & Open\\_2 & Open\\_3 & day\\\\\n",
       "\t\\hline\n",
       "\t& String15 & Float64 & Float64 & Float64 & Float64 & Float64\\\\\n",
       "\t\\hline\n",
       "\t1 & Mar 15, 2022 & 172.6 & 25.26 & 1953.7 & 39717.9 & 366.0 \\\\\n",
       "\t2 & Mar 14, 2022 & 179.65 & 26.28 & 1988.7 & 37777.1 & 365.0 \\\\\n",
       "\t3 & Mar 11, 2022 & 189.26 & 26.26 & 2000.3 & 39458.5 & 362.0 \\\\\n",
       "\t4 & Mar 10, 2022 & 190.33 & 26.06 & 1992.8 & 41964.0 & 361.0 \\\\\n",
       "\t5 & Mar 09, 2022 & 206.83 & 26.93 & 2060.2 & 38757.0 & 360.0 \\\\\n",
       "\t6 & Mar 08, 2022 & 223.69 & 25.81 & 2001.0 & 38039.0 & 359.0 \\\\\n",
       "\t7 & Mar 07, 2022 & 210.69 & 26.03 & 1978.5 & 38437.0 & 358.0 \\\\\n",
       "\t8 & Mar 04, 2022 & 195.25 & 25.29 & 1938.5 & 42489.0 & 355.0 \\\\\n",
       "\t9 & Mar 03, 2022 & 185.89 & 25.45 & 1931.7 & 43952.0 & 354.0 \\\\\n",
       "\t10 & Mar 02, 2022 & 185.89 & 25.51 & 1945.3 & 44442.0 & 353.0 \\\\\n",
       "\t11 & Mar 01, 2022 & 165.45 & 24.46 & 1908.4 & 43202.0 & 352.0 \\\\\n",
       "\t12 & Feb 28, 2022 & 165.45 & 24.62 & 1921.0 & 37734.0 & 351.0 \\\\\n",
       "\t13 & Feb 25, 2022 & 156.28 & 24.33 & 1906.5 & 38380.0 & 348.0 \\\\\n",
       "\t14 & Feb 24, 2022 & 168.42 & 24.65 & 1911.9 & 37292.0 & 347.0 \\\\\n",
       "\t15 & Feb 23, 2022 & 160.48 & 24.2 & 1901.2 & 38299.0 & 346.0 \\\\\n",
       "\t16 & Feb 22, 2022 & 160.05 & 24.1 & 1903.5 & 37060.9 & 345.0 \\\\\n",
       "\t17 & Feb 18, 2022 & 155.85 & 23.9 & 1901.4 & 40559.0 & 341.0 \\\\\n",
       "\t18 & Feb 17, 2022 & 154.98 & 23.68 & 1872.0 & 43885.0 & 340.0 \\\\\n",
       "\t19 & Feb 16, 2022 & 159.7 & 23.45 & 1855.5 & 44559.9 & 339.0 \\\\\n",
       "\t20 & Feb 15, 2022 & 155.25 & 23.94 & 1873.8 & 42559.9 & 338.0 \\\\\n",
       "\t21 & Feb 14, 2022 & 159.1 & 23.65 & 1862.2 & 42091.0 & 337.0 \\\\\n",
       "\t22 & Feb 11, 2022 & 156.67 & 23.25 & 1827.0 & 43545.0 & 334.0 \\\\\n",
       "\t23 & Feb 10, 2022 & 156.33 & 23.33 & 1834.0 & 44432.0 & 333.0 \\\\\n",
       "\t24 & Feb 09, 2022 & 154.83 & 23.23 & 1827.0 & 44060.5 & 332.0 \\\\\n",
       "\t25 & Feb 08, 2022 & 151.89 & 23.07 & 1821.5 & 43865.0 & 331.0 \\\\\n",
       "\t26 & Feb 07, 2022 & 156.99 & 22.58 & 1808.0 & 42416.0 & 330.0 \\\\\n",
       "\t27 & Feb 04, 2022 & 157.64 & 22.46 & 1805.4 & 37331.0 & 327.0 \\\\\n",
       "\t28 & Feb 03, 2022 & 151.76 & 22.7 & 1807.4 & 36925.0 & 326.0 \\\\\n",
       "\t29 & Feb 02, 2022 & 149.47 & 22.68 & 1800.8 & 38733.0 & 325.0 \\\\\n",
       "\t30 & Feb 01, 2022 & 150.62 & 22.52 & 1798.9 & 38495.0 & 324.0 \\\\\n",
       "\t$\\dots$ & $\\dots$ & $\\dots$ & $\\dots$ & $\\dots$ & $\\dots$ & $\\dots$ \\\\\n",
       "\\end{tabular}\n"
      ],
      "text/plain": [
       "\u001b[1m253×6 DataFrame\u001b[0m\n",
       "\u001b[1m Row \u001b[0m│\u001b[1m Date         \u001b[0m\u001b[1m Open    \u001b[0m\u001b[1m Open_1  \u001b[0m\u001b[1m Open_2  \u001b[0m\u001b[1m Open_3  \u001b[0m\u001b[1m day     \u001b[0m\n",
       "\u001b[1m     \u001b[0m│\u001b[90m String15     \u001b[0m\u001b[90m Float64 \u001b[0m\u001b[90m Float64 \u001b[0m\u001b[90m Float64 \u001b[0m\u001b[90m Float64 \u001b[0m\u001b[90m Float64 \u001b[0m\n",
       "─────┼───────────────────────────────────────────────────────────\n",
       "   1 │ Mar 15, 2022   172.6     25.26   1953.7  39717.9    366.0\n",
       "   2 │ Mar 14, 2022   179.65    26.28   1988.7  37777.1    365.0\n",
       "   3 │ Mar 11, 2022   189.26    26.26   2000.3  39458.5    362.0\n",
       "   4 │ Mar 10, 2022   190.33    26.06   1992.8  41964.0    361.0\n",
       "   5 │ Mar 09, 2022   206.83    26.93   2060.2  38757.0    360.0\n",
       "   6 │ Mar 08, 2022   223.69    25.81   2001.0  38039.0    359.0\n",
       "   7 │ Mar 07, 2022   210.69    26.03   1978.5  38437.0    358.0\n",
       "   8 │ Mar 04, 2022   195.25    25.29   1938.5  42489.0    355.0\n",
       "   9 │ Mar 03, 2022   185.89    25.45   1931.7  43952.0    354.0\n",
       "  10 │ Mar 02, 2022   185.89    25.51   1945.3  44442.0    353.0\n",
       "  11 │ Mar 01, 2022   165.45    24.46   1908.4  43202.0    352.0\n",
       "  ⋮  │      ⋮           ⋮        ⋮        ⋮        ⋮        ⋮\n",
       " 244 │ Mar 26, 2021    99.5     25.35   1732.5  51363.0     12.0\n",
       " 245 │ Mar 25, 2021    99.5     25.2    1745.1  52347.2     11.0\n",
       " 246 │ Mar 24, 2021    99.5     25.25   1742.4  54331.0     10.0\n",
       " 247 │ Mar 23, 2021    99.5     25.77   1738.0  54074.0      9.0\n",
       " 248 │ Mar 22, 2021    99.5     26.05   1746.5  57368.0      8.0\n",
       " 249 │ Mar 19, 2021    98.87    26.22   1752.4  57640.0      5.0\n",
       " 250 │ Mar 18, 2021   100.37    26.51   1744.7  58870.0      4.0\n",
       " 251 │ Mar 17, 2021   103.99    25.97   1737.8  56924.0      3.0\n",
       " 252 │ Mar 16, 2021   104.79    26.38   1748.9  55644.0      2.0\n",
       " 253 │ Mar 15, 2021   105.69    26.07   1737.5  59005.0      1.0\n",
       "\u001b[36m                                                 232 rows omitted\u001b[0m"
      ]
     },
     "execution_count": 339,
     "metadata": {},
     "output_type": "execute_result"
    }
   ],
   "source": [
    "dfFinal = innerjoin(dfGold,dfSilver,dfPetrol,dfBitcoin,on=:Date,makeunique=true)"
   ]
  },
  {
   "cell_type": "markdown",
   "id": "e594c79f",
   "metadata": {},
   "source": [
    "finalmente nos contentaremos con un pequeño modelo lineal por ahora a que a priori realmente no conocemos muy buenos modelos para imponer, vamos a usar los vectores $G$ $S$ $P$ $T$ dentro de una matriz y usaremos mínimos cuadrados para obtener la relación con el valor Open_4 relacionado al bictoin"
   ]
  },
  {
   "cell_type": "code",
   "execution_count": 350,
   "id": "e303a319",
   "metadata": {},
   "outputs": [],
   "source": [
    "G,S,P,T=dfFinal.Open,dfFinal.Open_1,dfFinal.Open_2,dfFinal.day;"
   ]
  },
  {
   "cell_type": "code",
   "execution_count": 351,
   "id": "68be5675",
   "metadata": {},
   "outputs": [
    {
     "data": {
      "text/plain": [
       "253×4 Matrix{Float64}:\n",
       " 172.6   25.26  1953.7  366.0\n",
       " 179.65  26.28  1988.7  365.0\n",
       " 189.26  26.26  2000.3  362.0\n",
       " 190.33  26.06  1992.8  361.0\n",
       " 206.83  26.93  2060.2  360.0\n",
       " 223.69  25.81  2001.0  359.0\n",
       " 210.69  26.03  1978.5  358.0\n",
       " 195.25  25.29  1938.5  355.0\n",
       " 185.89  25.45  1931.7  354.0\n",
       " 185.89  25.51  1945.3  353.0\n",
       " 165.45  24.46  1908.4  352.0\n",
       " 165.45  24.62  1921.0  351.0\n",
       " 156.28  24.33  1906.5  348.0\n",
       "   ⋮                    \n",
       "  99.1   24.68  1700.0   16.0\n",
       "  98.85  25.05  1732.8   15.0\n",
       "  99.5   25.35  1732.5   12.0\n",
       "  99.5   25.2   1745.1   11.0\n",
       "  99.5   25.25  1742.4   10.0\n",
       "  99.5   25.77  1738.0    9.0\n",
       "  99.5   26.05  1746.5    8.0\n",
       "  98.87  26.22  1752.4    5.0\n",
       " 100.37  26.51  1744.7    4.0\n",
       " 103.99  25.97  1737.8    3.0\n",
       " 104.79  26.38  1748.9    2.0\n",
       " 105.69  26.07  1737.5    1.0"
      ]
     },
     "execution_count": 351,
     "metadata": {},
     "output_type": "execute_result"
    }
   ],
   "source": [
    "A = [ G S P T ] "
   ]
  },
  {
   "cell_type": "code",
   "execution_count": 352,
   "id": "ffde061a",
   "metadata": {},
   "outputs": [
    {
     "data": {
      "text/plain": [
       "253-element Vector{Float64}:\n",
       " 39717.9\n",
       " 37777.1\n",
       " 39458.5\n",
       " 41964.0\n",
       " 38757.0\n",
       " 38039.0\n",
       " 38437.0\n",
       " 42489.0\n",
       " 43952.0\n",
       " 44442.0\n",
       " 43202.0\n",
       " 37734.0\n",
       " 38380.0\n",
       "     ⋮\n",
       " 57672.3\n",
       " 55773.0\n",
       " 51363.0\n",
       " 52347.2\n",
       " 54331.0\n",
       " 54074.0\n",
       " 57368.0\n",
       " 57640.0\n",
       " 58870.0\n",
       " 56924.0\n",
       " 55644.0\n",
       " 59005.0"
      ]
     },
     "execution_count": 352,
     "metadata": {},
     "output_type": "execute_result"
    }
   ],
   "source": [
    "b= dfFinal.Open_3"
   ]
  },
  {
   "cell_type": "markdown",
   "id": "247d91c6",
   "metadata": {},
   "source": [
    "Finalmente podemos obtener $x$ para construir nuestro sistema lineal"
   ]
  },
  {
   "cell_type": "code",
   "execution_count": 353,
   "id": "dd1624b7",
   "metadata": {},
   "outputs": [
    {
     "data": {
      "text/plain": [
       "4-element Vector{Float64}:\n",
       "    57.33821211404594\n",
       " -5279.342107857203\n",
       "   103.19619924400774\n",
       "   -93.16295515878083"
      ]
     },
     "execution_count": 353,
     "metadata": {},
     "output_type": "execute_result"
    }
   ],
   "source": [
    "x = A\\b"
   ]
  },
  {
   "cell_type": "markdown",
   "id": "8b937f41",
   "metadata": {},
   "source": [
    "El modelo de predición sería entonces $B \\approx G\\times57.33 - S\\times 5279 + P \\times 103 - t \\times 93.16 $ \n",
    "Podriamos interpretarlo como que el bitcoin va devaluandose naturalmente, exceptuando con una subida en el valor del Oro que es un bien que la gente usa como protección a la inflación del Fiat\n"
   ]
  }
 ],
 "metadata": {
  "kernelspec": {
   "display_name": "Julia 1.7.2",
   "language": "julia",
   "name": "julia-1.7"
  },
  "language_info": {
   "file_extension": ".jl",
   "mimetype": "application/julia",
   "name": "julia",
   "version": "1.7.2"
  }
 },
 "nbformat": 4,
 "nbformat_minor": 5
}
